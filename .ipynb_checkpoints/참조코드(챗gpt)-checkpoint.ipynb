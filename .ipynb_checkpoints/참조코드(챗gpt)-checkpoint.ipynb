{
 "cells": [
  {
   "cell_type": "markdown",
   "id": "a23391e6",
   "metadata": {},
   "source": [
    "다른 열값이 있는 경우"
   ]
  },
  {
   "cell_type": "code",
   "execution_count": 1,
   "id": "62903f9b",
   "metadata": {},
   "outputs": [
    {
     "name": "stdout",
     "output_type": "stream",
     "text": [
      "다른 열 값이 있는 행들:\n",
      "         기준일시  열1_df1  열2_df1 열3_df1  열1_df2  열2_df2 열3_df2\n",
      "2  2022-04-03      30     300      C      40     300      D\n"
     ]
    }
   ],
   "source": [
    "import pandas as pd\n",
    "\n",
    "# 두 데이터프레임 생성 (예시)\n",
    "data1 = {\n",
    "    '기준일시': ['2022-04-01', '2022-04-02', '2022-04-03'],\n",
    "    '열1': [10, 20, 30],\n",
    "    '열2': [100, 200, 300],\n",
    "    '열3': ['A', 'B', 'C']\n",
    "}\n",
    "df1 = pd.DataFrame(data1)\n",
    "\n",
    "data2 = {\n",
    "    '기준일시': ['2022-04-01', '2022-04-02', '2022-04-03'],\n",
    "    '열1': [10, 20, 40],\n",
    "    '열2': [100, 200, 300],\n",
    "    '열3': ['A', 'B', 'D']\n",
    "}\n",
    "df2 = pd.DataFrame(data2)\n",
    "\n",
    "# '기준일시'를 기준으로 두 데이터프레임 조인\n",
    "merged = pd.merge(df1, df2, on='기준일시', suffixes=('_df1', '_df2'))\n",
    "\n",
    "# 다른 열 값이 있는지 확인하는 함수\n",
    "def check_different(row):\n",
    "    cols = row.index[1:]\n",
    "    return any(row[col] != row[col.replace('_df1', '_df2')] for col in cols)\n",
    "\n",
    "# apply를 사용하여 다른 열 값이 있는 행들 추출\n",
    "different_values = merged[merged.apply(check_different, axis=1)]\n",
    "\n",
    "# 결과 출력\n",
    "if not different_values.empty:\n",
    "    print(\"다른 열 값이 있는 행들:\")\n",
    "    print(different_values)\n"
   ]
  },
  {
   "cell_type": "markdown",
   "id": "cb743a7a",
   "metadata": {},
   "source": [
    "절대값 차이 1 넘는 경우"
   ]
  },
  {
   "cell_type": "code",
   "execution_count": 8,
   "id": "36789c4d",
   "metadata": {},
   "outputs": [
    {
     "name": "stdout",
     "output_type": "stream",
     "text": [
      "차이의 절대값이 1 이상인 행들:\n",
      "         기준일시  현재수요_df1  현재수요_df2  차이\n",
      "1  2022-04-02       200       250  50\n",
      "2  2022-04-03       300       301   1\n"
     ]
    }
   ],
   "source": [
    "# 두 데이터프레임 생성 (예시)\n",
    "data1 = {\n",
    "    '기준일시': ['2022-04-01', '2022-04-02', '2022-04-03'],\n",
    "    '현재수요': [100, 200, 300]\n",
    "}\n",
    "df1 = pd.DataFrame(data1)\n",
    "\n",
    "data2 = {\n",
    "    '기준일시': ['2022-04-01', '2022-04-02', '2022-04-03'],\n",
    "    '현재수요': [100, 250, 301]\n",
    "}\n",
    "df2 = pd.DataFrame(data2)\n",
    "\n",
    "# '기준일시'를 기준으로 두 데이터프레임 조인\n",
    "merged = pd.merge(df1, df2, on='기준일시', suffixes=('_df1', '_df2'))\n",
    "\n",
    "# 현재수요값의 차이 계산\n",
    "merged['차이'] = merged['현재수요_df2'] - merged['현재수요_df1']\n",
    "\n",
    "# 차이의 절대값이 1 이상인 행 추출\n",
    "difference_over_1 = merged[abs(merged['차이']) >= 1]\n",
    "\n",
    "# 결과 출력\n",
    "print(\"차이의 절대값이 1 이상인 행들:\")\n",
    "print(difference_over_1)"
   ]
  },
  {
   "cell_type": "markdown",
   "id": "e7cea9dd",
   "metadata": {},
   "source": [
    "outer로 합치기"
   ]
  },
  {
   "cell_type": "code",
   "execution_count": 4,
   "id": "ef94ff33",
   "metadata": {
    "scrolled": true
   },
   "outputs": [
    {
     "name": "stdout",
     "output_type": "stream",
     "text": [
      "         기준일시   현재수요\n",
      "0  2022-04-01  100.0\n",
      "1  2022-04-02  200.0\n",
      "2  2022-04-03  300.0\n",
      "3  2022-04-04  350.0\n"
     ]
    }
   ],
   "source": [
    "import pandas as pd\n",
    "\n",
    "# 첫번째 데이터프레임 생성 (예시)\n",
    "data1 = {\n",
    "    '기준일시': ['2022-04-01', '2022-04-02', '2022-04-03'],\n",
    "    '현재수요': [100, 200, 300]\n",
    "}\n",
    "df1 = pd.DataFrame(data1)\n",
    "\n",
    "# 두번째 데이터프레임 생성 (예시)\n",
    "data2 = {\n",
    "    '기준일시': ['2022-04-02', '2022-04-03', '2022-04-04'],\n",
    "    '현재수요': [150, 250, 350]\n",
    "}\n",
    "df2 = pd.DataFrame(data2)\n",
    "\n",
    "# 첫번째 데이터프레임을 기준으로 두 데이터프레임 합치기\n",
    "merged = pd.merge(df1, df2, on='기준일시', how='outer', suffixes=('_df1', '_df2'))\n",
    "\n",
    "# 같은 값이 있는 경우 첫번째 데이터프레임의 값으로 채우기\n",
    "merged['현재수요'] = merged['현재수요_df1'].combine_first(merged['현재수요_df2'])\n",
    "\n",
    "# 기준일시 열과 불필요한 열 제거\n",
    "merged.drop(['현재수요_df1', '현재수요_df2'], axis=1, inplace=True)\n",
    "\n",
    "# 결과 출력\n",
    "print(merged)\n"
   ]
  }
 ],
 "metadata": {
  "kernelspec": {
   "display_name": "Python 3 (ipykernel)",
   "language": "python",
   "name": "python3"
  },
  "language_info": {
   "codemirror_mode": {
    "name": "ipython",
    "version": 3
   },
   "file_extension": ".py",
   "mimetype": "text/x-python",
   "name": "python",
   "nbconvert_exporter": "python",
   "pygments_lexer": "ipython3",
   "version": "3.8.16"
  }
 },
 "nbformat": 4,
 "nbformat_minor": 5
}

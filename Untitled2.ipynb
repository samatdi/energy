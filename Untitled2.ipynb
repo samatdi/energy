{
 "cells": [
  {
   "cell_type": "code",
   "execution_count": 2,
   "id": "3a5a56fa",
   "metadata": {},
   "outputs": [
    {
     "name": "stdout",
     "output_type": "stream",
     "text": [
      "Time: 2010-01-01 01:00, Temperature: -11.0, Wind Speed: 1.2, Wind Direction: 290, Humidity: 45\n",
      "Time: 2010-01-01 02:00, Temperature: -11.1, Wind Speed: 1.7, Wind Direction: 20, Humidity: 46\n",
      "Time: 2010-01-01 03:00, Temperature: -12.1, Wind Speed: 1.6, Wind Direction: 20, Humidity: 54\n",
      "Time: 2010-01-01 04:00, Temperature: -12.3, Wind Speed: 1.4, Wind Direction: 20, Humidity: 53\n",
      "Time: 2010-01-01 05:00, Temperature: -12.4, Wind Speed: 1.6, Wind Direction: 20, Humidity: 54\n",
      "Time: 2010-01-01 06:00, Temperature: -12.4, Wind Speed: 1.6, Wind Direction: 20, Humidity: 57\n",
      "Time: 2010-01-01 07:00, Temperature: -12.7, Wind Speed: 1.6, Wind Direction: 50, Humidity: 52\n",
      "Time: 2010-01-01 08:00, Temperature: -12.6, Wind Speed: 1.5, Wind Direction: 50, Humidity: 54\n",
      "Time: 2010-01-01 09:00, Temperature: -11.7, Wind Speed: 1.6, Wind Direction: 50, Humidity: 43\n",
      "Time: 2010-01-01 10:00, Temperature: -9.1, Wind Speed: 1.0, Wind Direction: 110, Humidity: 36\n"
     ]
    }
   ],
   "source": [
    "import requests\n",
    "\n",
    "import xml.etree.ElementTree as ET\n",
    "\n",
    "\n",
    "\n",
    "def get_weather_data(api_key):\n",
    "\n",
    "    api_key_decode = requests.utils.unquote(api_key)\n",
    "\n",
    "\n",
    "\n",
    "    url = 'http://apis.data.go.kr/1360000/AsosHourlyInfoService/getWthrDataList'\n",
    "\n",
    "    params = {\n",
    "\n",
    "        'serviceKey': api_key_decode,\n",
    "\n",
    "        'pageNo': '1',\n",
    "\n",
    "        'numOfRows': '10',\n",
    "\n",
    "        'dataType': 'XML',\n",
    "\n",
    "        'dataCd': 'ASOS',\n",
    "\n",
    "        'dateCd': 'HR',\n",
    "\n",
    "        'startDt': '20100101',\n",
    "\n",
    "        'startHh': '01',\n",
    "\n",
    "        'endDt': '20100601',\n",
    "\n",
    "        'endHh': '01',\n",
    "\n",
    "        'stnIds': '108'\n",
    "\n",
    "    }\n",
    "\n",
    "\n",
    "\n",
    "    response = requests.get(url, params=params)\n",
    "\n",
    "\n",
    "\n",
    "    if response.status_code == 200:\n",
    "\n",
    "        # XML 파싱\n",
    "\n",
    "        root = ET.fromstring(response.content)\n",
    "\n",
    "\n",
    "\n",
    "        # item 엘리먼트들을 가져옴\n",
    "\n",
    "        items = root.findall('.//item')\n",
    "\n",
    "\n",
    "\n",
    "        # 각 item에 대해 원하는 정보를 추출\n",
    "\n",
    "        for item in items:\n",
    "\n",
    "            tm = item.find('tm').text\n",
    "\n",
    "            ta = item.find('ta').text\n",
    "\n",
    "            ws = item.find('ws').text\n",
    "\n",
    "            wd = item.find('wd').text\n",
    "\n",
    "            hm = item.find('hm').text\n",
    "\n",
    "\n",
    "\n",
    "            # 원하는 정보 출력 또는 다른 작업 수행\n",
    "\n",
    "            print(f'Time: {tm}, Temperature: {ta}, Wind Speed: {ws}, Wind Direction: {wd}, Humidity: {hm}')\n",
    "\n",
    "    else:\n",
    "\n",
    "        print('API 요청이 실패하였습니다.')\n",
    "\n",
    "\n",
    "\n",
    "# API 키를 입력하세요\n",
    "\n",
    "api_key = 'FNxwQLWk7jGDdCT1WrMW/IMC5OPj8UfZBNe3B8RLWewBrVMNw7cmNpo4wVmrIInf306MTSPihoKniPnjby7MGw=='\n",
    "\n",
    "get_weather_data(api_key)"
   ]
  },
  {
   "cell_type": "code",
   "execution_count": 6,
   "id": "6b7706a8",
   "metadata": {},
   "outputs": [
    {
     "ename": "NameError",
     "evalue": "name 'items' is not defined",
     "output_type": "error",
     "traceback": [
      "\u001b[1;31m---------------------------------------------------------------------------\u001b[0m",
      "\u001b[1;31mNameError\u001b[0m                                 Traceback (most recent call last)",
      "Cell \u001b[1;32mIn[6], line 1\u001b[0m\n\u001b[1;32m----> 1\u001b[0m \u001b[43mitems\u001b[49m\n",
      "\u001b[1;31mNameError\u001b[0m: name 'items' is not defined"
     ]
    }
   ],
   "source": [
    "items"
   ]
  },
  {
   "cell_type": "code",
   "execution_count": null,
   "id": "2b648b08",
   "metadata": {},
   "outputs": [],
   "source": []
  }
 ],
 "metadata": {
  "kernelspec": {
   "display_name": "Python 3 (ipykernel)",
   "language": "python",
   "name": "python3"
  },
  "language_info": {
   "codemirror_mode": {
    "name": "ipython",
    "version": 3
   },
   "file_extension": ".py",
   "mimetype": "text/x-python",
   "name": "python",
   "nbconvert_exporter": "python",
   "pygments_lexer": "ipython3",
   "version": "3.8.16"
  }
 },
 "nbformat": 4,
 "nbformat_minor": 5
}

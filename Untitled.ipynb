{
 "cells": [
  {
   "cell_type": "code",
   "execution_count": 3,
   "id": "1349eff0",
   "metadata": {},
   "outputs": [],
   "source": [
    "import requests\n",
    "import pprint\n",
    "import json"
   ]
  },
  {
   "cell_type": "code",
   "execution_count": null,
   "id": "bb7e0253",
   "metadata": {},
   "outputs": [],
   "source": []
  },
  {
   "cell_type": "code",
   "execution_count": 4,
   "id": "d3b0d5ec",
   "metadata": {},
   "outputs": [],
   "source": [
    "\n",
    "\n",
    "인증키 = 'FNxwQLWk7jGDdCT1WrMW/IMC5OPj8UfZBNe3B8RLWewBrVMNw7cmNpo4wVmrIInf306MTSPihoKniPnjby7MGw=='\n",
    "\n",
    "\n",
    "url = f'http://apis.data.go.kr/1360000/AsosHourlyInfoService/getWthrDataList?serviceKey={인증키}&numOfRows=10&pageNo=1&dataCd=ASOS&dateCd=HR&stnIds=108&endDt=20200310&endHh=01&startHh=01&startDt=20190120'\n",
    "\n",
    "response = requests.get(url)"
   ]
  },
  {
   "cell_type": "code",
   "execution_count": 5,
   "id": "b77bc435",
   "metadata": {},
   "outputs": [
    {
     "name": "stdout",
     "output_type": "stream",
     "text": [
      "b'<?xml version=\"1.0\" encoding=\"UTF-8\"?>\\r\\n<response><header><resultCode>00</resultCode><resultMsg>NORMAL_SERVICE</resultMsg></header><body><dataType>XML</dataType><items><item><tm>2019-01-20 01:00</tm><rnum>1</rnum><stnId>108</stnId><stnNm>\\xec\\x84\\x9c\\xec\\x9a\\xb8</stnNm><ta>3.6</ta><taQcflg></taQcflg><rn></rn><rnQcflg></rnQcflg><ws>2.5</ws><wsQcflg></wsQcflg><wd>290</wd><wdQcflg></wdQcflg><hm>76</hm><hmQcflg></hmQcflg><pv>6.0</pv><td>-0.2</td><pa>1007.8</pa><paQcflg></paQcflg><ps>1018.4</ps><psQcflg></psQcflg><ss></ss><ssQcflg>9</ssQcflg><icsr></icsr><dsnw></dsnw><hr3Fhsc></hr3Fhsc><dc10Tca>9</dc10Tca><dc10LmcsCa>8</dc10LmcsCa><clfmAbbrCd></clfmAbbrCd><lcsCh>3</lcsCh><vs>310</vs><gndSttCd></gndSttCd><dmstMtphNo>40</dmstMtphNo><ts>0.0</ts><tsQcflg></tsQcflg><m005Te>0.5</m005Te><m01Te>0.0</m01Te><m02Te>0.2</m02Te><m03Te>0.7</m03Te></item><item><tm>2019-01-20 02:00</tm><rnum>2</rnum><stnId>108</stnId><stnNm>\\xec\\x84\\x9c\\xec\\x9a\\xb8</stnNm><ta>2.7</ta><taQcflg></taQcflg><rn></rn><rnQcflg></rnQcflg><ws>2.0</ws><wsQcflg></wsQcflg><wd>290</wd><wdQcflg></wdQcflg><hm>77</hm><hmQcflg></hmQcflg><pv>5.7</pv><td>-0.9</td><pa>1007.5</pa><paQcflg></paQcflg><ps>1018.2</ps><psQcflg></psQcflg><ss></ss><ssQcflg>9</ssQcflg><icsr></icsr><dsnw></dsnw><hr3Fhsc></hr3Fhsc><dc10Tca>8</dc10Tca><dc10LmcsCa>5</dc10LmcsCa><clfmAbbrCd></clfmAbbrCd><lcsCh>4</lcsCh><vs>268</vs><gndSttCd></gndSttCd><dmstMtphNo>40</dmstMtphNo><ts>-0.6</ts><tsQcflg></tsQcflg><m005Te>0.1</m005Te><m01Te>-0.1</m01Te><m02Te>0.2</m02Te><m03Te>0.7</m03Te></item><item><tm>2019-01-20 03:00</tm><rnum>3</rnum><stnId>108</stnId><stnNm>\\xec\\x84\\x9c\\xec\\x9a\\xb8</stnNm><ta>2.0</ta><taQcflg></taQcflg><rn></rn><rnQcflg></rnQcflg><ws>1.8</ws><wsQcflg></wsQcflg><wd>270</wd><wdQcflg></wdQcflg><hm>78</hm><hmQcflg></hmQcflg><pv>5.5</pv><td>-1.4</td><pa>1007.7</pa><paQcflg></paQcflg><ps>1018.4</ps><psQcflg></psQcflg><ss></ss><ssQcflg>9</ssQcflg><icsr></icsr><dsnw></dsnw><hr3Fhsc></hr3Fhsc><dc10Tca>9</dc10Tca><dc10LmcsCa>9</dc10LmcsCa><clfmAbbrCd>As</clfmAbbrCd><lcsCh>35</lcsCh><vs>246</vs><gndSttCd></gndSttCd><dmstMtphNo>40</dmstMtphNo><ts>-0.9</ts><tsQcflg></tsQcflg><m005Te>0.0</m005Te><m01Te>0.0</m01Te><m02Te>0.2</m02Te><m03Te>0.7</m03Te></item><item><tm>2019-01-20 04:00</tm><rnum>4</rnum><stnId>108</stnId><stnNm>\\xec\\x84\\x9c\\xec\\x9a\\xb8</stnNm><ta>1.2</ta><taQcflg></taQcflg><rn></rn><rnQcflg></rnQcflg><ws>3.6</ws><wsQcflg></wsQcflg><wd>290</wd><wdQcflg></wdQcflg><hm>68</hm><hmQcflg></hmQcflg><pv>4.5</pv><td>-4.0</td><pa>1008.2</pa><paQcflg></paQcflg><ps>1019.0</ps><psQcflg></psQcflg><ss></ss><ssQcflg>9</ssQcflg><icsr></icsr><dsnw></dsnw><hr3Fhsc></hr3Fhsc><dc10Tca>8</dc10Tca><dc10LmcsCa>2</dc10LmcsCa><clfmAbbrCd>ScAc</clfmAbbrCd><lcsCh>11</lcsCh><vs>379</vs><gndSttCd></gndSttCd><dmstMtphNo>40</dmstMtphNo><ts>-1.1</ts><tsQcflg></tsQcflg><m005Te>0.0</m005Te><m01Te>-0.1</m01Te><m02Te>0.2</m02Te><m03Te>0.7</m03Te></item><item><tm>2019-01-20 05:00</tm><rnum>5</rnum><stnId>108</stnId><stnNm>\\xec\\x84\\x9c\\xec\\x9a\\xb8</stnNm><ta>0.2</ta><taQcflg></taQcflg><rn></rn><rnQcflg></rnQcflg><ws>1.8</ws><wsQcflg></wsQcflg><wd>290</wd><wdQcflg></wdQcflg><hm>54</hm><hmQcflg></hmQcflg><pv>3.3</pv><td>-8.0</td><pa>1008.0</pa><paQcflg></paQcflg><ps>1018.8</ps><psQcflg></psQcflg><ss></ss><ssQcflg>9</ssQcflg><icsr></icsr><dsnw></dsnw><hr3Fhsc></hr3Fhsc><dc10Tca>1</dc10Tca><dc10LmcsCa>1</dc10LmcsCa><clfmAbbrCd>Sc</clfmAbbrCd><lcsCh>10</lcsCh><vs>714</vs><gndSttCd></gndSttCd><dmstMtphNo>40</dmstMtphNo><ts>-2.9</ts><tsQcflg></tsQcflg><m005Te>-0.1</m005Te><m01Te>-0.1</m01Te><m02Te>0.2</m02Te><m03Te>0.7</m03Te></item><item><tm>2019-01-20 06:00</tm><rnum>6</rnum><stnId>108</stnId><stnNm>\\xec\\x84\\x9c\\xec\\x9a\\xb8</stnNm><ta>-0.8</ta><taQcflg></taQcflg><rn></rn><rnQcflg></rnQcflg><ws>3.5</ws><wsQcflg></wsQcflg><wd>290</wd><wdQcflg></wdQcflg><hm>47</hm><hmQcflg></hmQcflg><pv>2.7</pv><td>-10.7</td><pa>1008.9</pa><paQcflg></paQcflg><ps>1019.8</ps><psQcflg></psQcflg><ss></ss><ssQcflg>9</ssQcflg><icsr></icsr><dsnw></dsnw><hr3Fhsc></hr3Fhsc><dc10Tca>0</dc10Tca><dc10LmcsCa>0</dc10LmcsCa><clfmAbbrCd></clfmAbbrCd><lcsCh></lcsCh><vs>1152</vs><gndSttCd></gndSttCd><dmstMtphNo>40</dmstMtphNo><ts>-3.2</ts><tsQcflg></tsQcflg><m005Te>-0.2</m005Te><m01Te>0.0</m01Te><m02Te>0.2</m02Te><m03Te>0.7</m03Te></item><item><tm>2019-01-20 07:00</tm><rnum>7</rnum><stnId>108</stnId><stnNm>\\xec\\x84\\x9c\\xec\\x9a\\xb8</stnNm><ta>-1.6</ta><taQcflg></taQcflg><rn></rn><rnQcflg></rnQcflg><ws>2.6</ws><wsQcflg></wsQcflg><wd>290</wd><wdQcflg></wdQcflg><hm>52</hm><hmQcflg></hmQcflg><pv>2.8</pv><td>-10.1</td><pa>1009.4</pa><paQcflg></paQcflg><ps>1020.3</ps><psQcflg></psQcflg><ss></ss><ssQcflg>9</ssQcflg><icsr></icsr><dsnw></dsnw><hr3Fhsc></hr3Fhsc><dc10Tca>0</dc10Tca><dc10LmcsCa>0</dc10LmcsCa><clfmAbbrCd></clfmAbbrCd><lcsCh></lcsCh><vs>1041</vs><gndSttCd></gndSttCd><dmstMtphNo></dmstMtphNo><ts>-4.0</ts><tsQcflg></tsQcflg><m005Te>-0.2</m005Te><m01Te>-0.1</m01Te><m02Te>0.2</m02Te><m03Te>0.7</m03Te></item><item><tm>2019-01-20 08:00</tm><rnum>8</rnum><stnId>108</stnId><stnNm>\\xec\\x84\\x9c\\xec\\x9a\\xb8</stnNm><ta>-2.4</ta><taQcflg></taQcflg><rn></rn><rnQcflg></rnQcflg><ws>3.6</ws><wsQcflg></wsQcflg><wd>270</wd><wdQcflg></wdQcflg><hm>50</hm><hmQcflg></hmQcflg><pv>2.6</pv><td>-11.4</td><pa>1010.6</pa><paQcflg></paQcflg><ps>1021.5</ps><psQcflg></psQcflg><ss>0.0</ss><ssQcflg></ssQcflg><icsr>0.0</icsr><dsnw></dsnw><hr3Fhsc></hr3Fhsc><dc10Tca>0</dc10Tca><dc10LmcsCa>0</dc10LmcsCa><clfmAbbrCd></clfmAbbrCd><lcsCh></lcsCh><vs>1082</vs><gndSttCd></gndSttCd><dmstMtphNo></dmstMtphNo><ts>-4.1</ts><tsQcflg></tsQcflg><m005Te>-0.3</m005Te><m01Te>0.0</m01Te><m02Te>0.2</m02Te><m03Te>0.7</m03Te></item><item><tm>2019-01-20 09:00</tm><rnum>9</rnum><stnId>108</stnId><stnNm>\\xec\\x84\\x9c\\xec\\x9a\\xb8</stnNm><ta>-2.4</ta><taQcflg></taQcflg><rn></rn><rnQcflg></rnQcflg><ws>5.3</ws><wsQcflg></wsQcflg><wd>320</wd><wdQcflg></wdQcflg><hm>38</hm><hmQcflg></hmQcflg><pv>1.9</pv><td>-14.8</td><pa>1011.5</pa><paQcflg></paQcflg><ps>1022.4</ps><psQcflg></psQcflg><ss>0.4</ss><ssQcflg></ssQcflg><icsr>0.27</icsr><dsnw></dsnw><hr3Fhsc></hr3Fhsc><dc10Tca>0</dc10Tca><dc10LmcsCa>0</dc10LmcsCa><clfmAbbrCd></clfmAbbrCd><lcsCh></lcsCh><vs>1474</vs><gndSttCd></gndSttCd><dmstMtphNo></dmstMtphNo><ts>-2.8</ts><tsQcflg></tsQcflg><m005Te>-0.3</m005Te><m01Te>0.0</m01Te><m02Te>0.2</m02Te><m03Te>0.8</m03Te></item><item><tm>2019-01-20 10:00</tm><rnum>10</rnum><stnId>108</stnId><stnNm>\\xec\\x84\\x9c\\xec\\x9a\\xb8</stnNm><ta>-1.6</ta><taQcflg></taQcflg><rn></rn><rnQcflg></rnQcflg><ws>4.1</ws><wsQcflg></wsQcflg><wd>290</wd><wdQcflg></wdQcflg><hm>34</hm><hmQcflg></hmQcflg><pv>1.8</pv><td>-15.4</td><pa>1012.1</pa><paQcflg></paQcflg><ps>1023.0</ps><psQcflg></psQcflg><ss>1.0</ss><ssQcflg></ssQcflg><icsr>0.93</icsr><dsnw></dsnw><hr3Fhsc></hr3Fhsc><dc10Tca>0</dc10Tca><dc10LmcsCa>0</dc10LmcsCa><clfmAbbrCd></clfmAbbrCd><lcsCh></lcsCh><vs>1707</vs><gndSttCd></gndSttCd><dmstMtphNo></dmstMtphNo><ts>1.5</ts><tsQcflg></tsQcflg><m005Te>-0.1</m005Te><m01Te>-0.1</m01Te><m02Te>0.2</m02Te><m03Te>0.7</m03Te></item></items><numOfRows>10</numOfRows><pageNo>1</pageNo><totalCount>9961</totalCount></body></response>\\r\\n'\n"
     ]
    }
   ],
   "source": [
    "print(response.content)"
   ]
  },
  {
   "cell_type": "code",
   "execution_count": 6,
   "id": "dc367a64",
   "metadata": {},
   "outputs": [
    {
     "ename": "KeyError",
     "evalue": "\"['t1h', 'rn1'] not in index\"",
     "output_type": "error",
     "traceback": [
      "\u001b[1;31m---------------------------------------------------------------------------\u001b[0m",
      "\u001b[1;31mKeyError\u001b[0m                                  Traceback (most recent call last)",
      "Cell \u001b[1;32mIn[6], line 33\u001b[0m\n\u001b[0;32m     31\u001b[0m \u001b[38;5;66;03m# 필요한 컬럼 선택\u001b[39;00m\n\u001b[0;32m     32\u001b[0m columns \u001b[38;5;241m=\u001b[39m [\u001b[38;5;124m'\u001b[39m\u001b[38;5;124mtm\u001b[39m\u001b[38;5;124m'\u001b[39m, \u001b[38;5;124m'\u001b[39m\u001b[38;5;124mstnId\u001b[39m\u001b[38;5;124m'\u001b[39m, \u001b[38;5;124m'\u001b[39m\u001b[38;5;124mt1h\u001b[39m\u001b[38;5;124m'\u001b[39m, \u001b[38;5;124m'\u001b[39m\u001b[38;5;124mrn1\u001b[39m\u001b[38;5;124m'\u001b[39m]\n\u001b[1;32m---> 33\u001b[0m df \u001b[38;5;241m=\u001b[39m \u001b[43mdf\u001b[49m\u001b[43m[\u001b[49m\u001b[43mcolumns\u001b[49m\u001b[43m]\u001b[49m\n\u001b[0;32m     34\u001b[0m \u001b[38;5;66;03m# 컬럼 이름 변경\u001b[39;00m\n\u001b[0;32m     35\u001b[0m df\u001b[38;5;241m.\u001b[39mcolumns \u001b[38;5;241m=\u001b[39m [\u001b[38;5;124m'\u001b[39m\u001b[38;5;124m시간\u001b[39m\u001b[38;5;124m'\u001b[39m, \u001b[38;5;124m'\u001b[39m\u001b[38;5;124m기상 관측소 ID\u001b[39m\u001b[38;5;124m'\u001b[39m, \u001b[38;5;124m'\u001b[39m\u001b[38;5;124m기온(℃)\u001b[39m\u001b[38;5;124m'\u001b[39m, \u001b[38;5;124m'\u001b[39m\u001b[38;5;124m강수량(mm)\u001b[39m\u001b[38;5;124m'\u001b[39m]\n",
      "File \u001b[1;32m~\\miniconda3\\envs\\practice\\lib\\site-packages\\pandas\\core\\frame.py:3813\u001b[0m, in \u001b[0;36mDataFrame.__getitem__\u001b[1;34m(self, key)\u001b[0m\n\u001b[0;32m   3811\u001b[0m     \u001b[38;5;28;01mif\u001b[39;00m is_iterator(key):\n\u001b[0;32m   3812\u001b[0m         key \u001b[38;5;241m=\u001b[39m \u001b[38;5;28mlist\u001b[39m(key)\n\u001b[1;32m-> 3813\u001b[0m     indexer \u001b[38;5;241m=\u001b[39m \u001b[38;5;28;43mself\u001b[39;49m\u001b[38;5;241;43m.\u001b[39;49m\u001b[43mcolumns\u001b[49m\u001b[38;5;241;43m.\u001b[39;49m\u001b[43m_get_indexer_strict\u001b[49m\u001b[43m(\u001b[49m\u001b[43mkey\u001b[49m\u001b[43m,\u001b[49m\u001b[43m \u001b[49m\u001b[38;5;124;43m\"\u001b[39;49m\u001b[38;5;124;43mcolumns\u001b[39;49m\u001b[38;5;124;43m\"\u001b[39;49m\u001b[43m)\u001b[49m[\u001b[38;5;241m1\u001b[39m]\n\u001b[0;32m   3815\u001b[0m \u001b[38;5;66;03m# take() does not accept boolean indexers\u001b[39;00m\n\u001b[0;32m   3816\u001b[0m \u001b[38;5;28;01mif\u001b[39;00m \u001b[38;5;28mgetattr\u001b[39m(indexer, \u001b[38;5;124m\"\u001b[39m\u001b[38;5;124mdtype\u001b[39m\u001b[38;5;124m\"\u001b[39m, \u001b[38;5;28;01mNone\u001b[39;00m) \u001b[38;5;241m==\u001b[39m \u001b[38;5;28mbool\u001b[39m:\n",
      "File \u001b[1;32m~\\miniconda3\\envs\\practice\\lib\\site-packages\\pandas\\core\\indexes\\base.py:6070\u001b[0m, in \u001b[0;36mIndex._get_indexer_strict\u001b[1;34m(self, key, axis_name)\u001b[0m\n\u001b[0;32m   6067\u001b[0m \u001b[38;5;28;01melse\u001b[39;00m:\n\u001b[0;32m   6068\u001b[0m     keyarr, indexer, new_indexer \u001b[38;5;241m=\u001b[39m \u001b[38;5;28mself\u001b[39m\u001b[38;5;241m.\u001b[39m_reindex_non_unique(keyarr)\n\u001b[1;32m-> 6070\u001b[0m \u001b[38;5;28;43mself\u001b[39;49m\u001b[38;5;241;43m.\u001b[39;49m\u001b[43m_raise_if_missing\u001b[49m\u001b[43m(\u001b[49m\u001b[43mkeyarr\u001b[49m\u001b[43m,\u001b[49m\u001b[43m \u001b[49m\u001b[43mindexer\u001b[49m\u001b[43m,\u001b[49m\u001b[43m \u001b[49m\u001b[43maxis_name\u001b[49m\u001b[43m)\u001b[49m\n\u001b[0;32m   6072\u001b[0m keyarr \u001b[38;5;241m=\u001b[39m \u001b[38;5;28mself\u001b[39m\u001b[38;5;241m.\u001b[39mtake(indexer)\n\u001b[0;32m   6073\u001b[0m \u001b[38;5;28;01mif\u001b[39;00m \u001b[38;5;28misinstance\u001b[39m(key, Index):\n\u001b[0;32m   6074\u001b[0m     \u001b[38;5;66;03m# GH 42790 - Preserve name from an Index\u001b[39;00m\n",
      "File \u001b[1;32m~\\miniconda3\\envs\\practice\\lib\\site-packages\\pandas\\core\\indexes\\base.py:6133\u001b[0m, in \u001b[0;36mIndex._raise_if_missing\u001b[1;34m(self, key, indexer, axis_name)\u001b[0m\n\u001b[0;32m   6130\u001b[0m     \u001b[38;5;28;01mraise\u001b[39;00m \u001b[38;5;167;01mKeyError\u001b[39;00m(\u001b[38;5;124mf\u001b[39m\u001b[38;5;124m\"\u001b[39m\u001b[38;5;124mNone of [\u001b[39m\u001b[38;5;132;01m{\u001b[39;00mkey\u001b[38;5;132;01m}\u001b[39;00m\u001b[38;5;124m] are in the [\u001b[39m\u001b[38;5;132;01m{\u001b[39;00maxis_name\u001b[38;5;132;01m}\u001b[39;00m\u001b[38;5;124m]\u001b[39m\u001b[38;5;124m\"\u001b[39m)\n\u001b[0;32m   6132\u001b[0m not_found \u001b[38;5;241m=\u001b[39m \u001b[38;5;28mlist\u001b[39m(ensure_index(key)[missing_mask\u001b[38;5;241m.\u001b[39mnonzero()[\u001b[38;5;241m0\u001b[39m]]\u001b[38;5;241m.\u001b[39munique())\n\u001b[1;32m-> 6133\u001b[0m \u001b[38;5;28;01mraise\u001b[39;00m \u001b[38;5;167;01mKeyError\u001b[39;00m(\u001b[38;5;124mf\u001b[39m\u001b[38;5;124m\"\u001b[39m\u001b[38;5;132;01m{\u001b[39;00mnot_found\u001b[38;5;132;01m}\u001b[39;00m\u001b[38;5;124m not in index\u001b[39m\u001b[38;5;124m\"\u001b[39m)\n",
      "\u001b[1;31mKeyError\u001b[0m: \"['t1h', 'rn1'] not in index\""
     ]
    }
   ],
   "source": [
    "import requests\n",
    "import pandas as pd\n",
    "\n",
    "# API 키\n",
    "api_key = 'FNxwQLWk7jGDdCT1WrMW/IMC5OPj8UfZBNe3B8RLWewBrVMNw7cmNpo4wVmrIInf306MTSPihoKniPnjby7MGw=='\n",
    "\n",
    "# API 요청 URL\n",
    "url = 'http://apis.data.go.kr/1360000/AsosHourlyInfoService/getWthrDataList'\n",
    "\n",
    "# 요청 파라미터 설정\n",
    "params = {\n",
    "    'serviceKey': api_key,    # API 키\n",
    "    'dataType': 'JSON',       # 응답 데이터 타입\n",
    "    'dataCd': 'ASOS',         # 자료 종류 (ASOS: 기상관측)\n",
    "    'dateCd': 'HR',           # 날짜 종류 (HR: 시간)\n",
    "    'startDt': '20230601',    # 시작 날짜\n",
    "    'startHh': '00',          # 시작 시간\n",
    "    'endDt': '20230601',      # 종료 날짜\n",
    "    'endHh': '23',            # 종료 시간\n",
    "    'stnIds': '108'           # 기상 관측소 ID (여기서는 108: 서울)\n",
    "}\n",
    "\n",
    "# API 요청 보내기\n",
    "response = requests.get(url, params=params)\n",
    "\n",
    "# 응답 결과 확인\n",
    "if response.status_code == 200:\n",
    "    data = response.json()\n",
    "    # 데이터프레임 생성\n",
    "    df = pd.DataFrame(data['response']['body']['items']['item'])\n",
    "    # 필요한 컬럼 선택\n",
    "    columns = ['tm', 'stnId', 't1h', 'rn1']\n",
    "    df = df[columns]\n",
    "    # 컬럼 이름 변경\n",
    "    df.columns = ['시간', '기상 관측소 ID', '기온(℃)', '강수량(mm)']\n",
    "    # 데이터프레임 출력 또는 활용\n",
    "    print(df)\n",
    "else:\n",
    "    print('API 요청에 실패했습니다. 응답 코드:', response.status_code)\n"
   ]
  },
  {
   "cell_type": "code",
   "execution_count": 7,
   "id": "9226ee69",
   "metadata": {},
   "outputs": [
    {
     "name": "stdout",
     "output_type": "stream",
     "text": [
      "{'response': {'header': {'resultCode': '00', 'resultMsg': 'NORMAL_SERVICE'}, 'body': {'dataType': 'JSON', 'items': {'item': [{'tm': '2023-06-01 00:00', 'rnum': '1', 'stnId': '108', 'stnNm': '서울', 'ta': '20.7', 'taQcflg': '', 'rn': '', 'rnQcflg': '', 'ws': '2.0', 'wsQcflg': '', 'wd': '250', 'wdQcflg': '', 'hm': '66', 'hmQcflg': '', 'pv': '16.1', 'td': '14.1', 'pa': '999.4', 'paQcflg': '', 'ps': '1009.3', 'psQcflg': '', 'ss': '', 'ssQcflg': '9', 'icsr': '', 'dsnw': '', 'hr3Fhsc': '', 'dc10Tca': '10', 'dc10LmcsCa': '0', 'clfmAbbrCd': '', 'lcsCh': '', 'vs': '2000', 'gndSttCd': '', 'dmstMtphNo': '', 'ts': '19.2', 'tsQcflg': '', 'm005Te': '23.6', 'm01Te': '23.6', 'm02Te': '23.1', 'm03Te': '22.5'}, {'tm': '2023-06-01 01:00', 'rnum': '2', 'stnId': '108', 'stnNm': '서울', 'ta': '20.5', 'taQcflg': '', 'rn': '', 'rnQcflg': '', 'ws': '1.0', 'wsQcflg': '', 'wd': '270', 'wdQcflg': '', 'hm': '67', 'hmQcflg': '', 'pv': '16.1', 'td': '14.1', 'pa': '998.9', 'paQcflg': '', 'ps': '1008.8', 'psQcflg': '', 'ss': '', 'ssQcflg': '9', 'icsr': '', 'dsnw': '', 'hr3Fhsc': '', 'dc10Tca': '10', 'dc10LmcsCa': '10', 'clfmAbbrCd': '', 'lcsCh': '48', 'vs': '2000', 'gndSttCd': '', 'dmstMtphNo': '', 'ts': '19.2', 'tsQcflg': '', 'm005Te': '23.2', 'm01Te': '23.2', 'm02Te': '22.9', 'm03Te': '22.5'}, {'tm': '2023-06-01 02:00', 'rnum': '3', 'stnId': '108', 'stnNm': '서울', 'ta': '20.4', 'taQcflg': '', 'rn': '', 'rnQcflg': '', 'ws': '1.1', 'wsQcflg': '', 'wd': '270', 'wdQcflg': '', 'hm': '69', 'hmQcflg': '', 'pv': '16.5', 'td': '14.5', 'pa': '998.8', 'paQcflg': '', 'ps': '1008.7', 'psQcflg': '', 'ss': '', 'ssQcflg': '9', 'icsr': '', 'dsnw': '', 'hr3Fhsc': '', 'dc10Tca': '10', 'dc10LmcsCa': '2', 'clfmAbbrCd': '', 'lcsCh': '16', 'vs': '2000', 'gndSttCd': '', 'dmstMtphNo': '', 'ts': '18.9', 'tsQcflg': '', 'm005Te': '23.0', 'm01Te': '23.0', 'm02Te': '22.7', 'm03Te': '22.4'}, {'tm': '2023-06-01 03:00', 'rnum': '4', 'stnId': '108', 'stnNm': '서울', 'ta': '20.1', 'taQcflg': '', 'rn': '', 'rnQcflg': '', 'ws': '1.2', 'wsQcflg': '', 'wd': '320', 'wdQcflg': '', 'hm': '70', 'hmQcflg': '', 'pv': '16.4', 'td': '14.4', 'pa': '998.5', 'paQcflg': '', 'ps': '1008.4', 'psQcflg': '', 'ss': '', 'ssQcflg': '9', 'icsr': '', 'dsnw': '', 'hr3Fhsc': '', 'dc10Tca': '10', 'dc10LmcsCa': '2', 'clfmAbbrCd': 'ScCs', 'lcsCh': '15', 'vs': '2000', 'gndSttCd': '', 'dmstMtphNo': '', 'ts': '18.7', 'tsQcflg': '', 'm005Te': '22.7', 'm01Te': '22.7', 'm02Te': '22.6', 'm03Te': '22.4'}, {'tm': '2023-06-01 04:00', 'rnum': '5', 'stnId': '108', 'stnNm': '서울', 'ta': '20.2', 'taQcflg': '', 'rn': '', 'rnQcflg': '', 'ws': '1.4', 'wsQcflg': '', 'wd': '290', 'wdQcflg': '', 'hm': '70', 'hmQcflg': '', 'pv': '16.5', 'td': '14.5', 'pa': '998.2', 'paQcflg': '', 'ps': '1008.1', 'psQcflg': '', 'ss': '', 'ssQcflg': '9', 'icsr': '', 'dsnw': '', 'hr3Fhsc': '', 'dc10Tca': '10', 'dc10LmcsCa': '3', 'clfmAbbrCd': 'ScCs', 'lcsCh': '14', 'vs': '2000', 'gndSttCd': '', 'dmstMtphNo': '', 'ts': '18.6', 'tsQcflg': '', 'm005Te': '22.5', 'm01Te': '22.5', 'm02Te': '22.4', 'm03Te': '22.3'}, {'tm': '2023-06-01 05:00', 'rnum': '6', 'stnId': '108', 'stnNm': '서울', 'ta': '19.9', 'taQcflg': '', 'rn': '', 'rnQcflg': '', 'ws': '1.4', 'wsQcflg': '', 'wd': '290', 'wdQcflg': '', 'hm': '75', 'hmQcflg': '', 'pv': '17.4', 'td': '15.3', 'pa': '997.8', 'paQcflg': '', 'ps': '1007.7', 'psQcflg': '', 'ss': '', 'ssQcflg': '9', 'icsr': '', 'dsnw': '', 'hr3Fhsc': '', 'dc10Tca': '10', 'dc10LmcsCa': '2', 'clfmAbbrCd': 'ScAcCs', 'lcsCh': '14', 'vs': '2000', 'gndSttCd': '', 'dmstMtphNo': '', 'ts': '18.5', 'tsQcflg': '', 'm005Te': '22.3', 'm01Te': '22.3', 'm02Te': '22.2', 'm03Te': '22.2'}, {'tm': '2023-06-01 06:00', 'rnum': '7', 'stnId': '108', 'stnNm': '서울', 'ta': '19.7', 'taQcflg': '', 'rn': '', 'rnQcflg': '', 'ws': '0.9', 'wsQcflg': '', 'wd': '340', 'wdQcflg': '', 'hm': '76', 'hmQcflg': '', 'pv': '17.4', 'td': '15.3', 'pa': '998.3', 'paQcflg': '', 'ps': '1008.1', 'psQcflg': '', 'ss': '0.0', 'ssQcflg': '', 'icsr': '0.02', 'dsnw': '', 'hr3Fhsc': '', 'dc10Tca': '10', 'dc10LmcsCa': '4', 'clfmAbbrCd': 'AcCs', 'lcsCh': '40', 'vs': '2000', 'gndSttCd': '', 'dmstMtphNo': '', 'ts': '18.7', 'tsQcflg': '', 'm005Te': '22.1', 'm01Te': '22.1', 'm02Te': '22.0', 'm03Te': '22.1'}, {'tm': '2023-06-01 07:00', 'rnum': '8', 'stnId': '108', 'stnNm': '서울', 'ta': '19.8', 'taQcflg': '', 'rn': '', 'rnQcflg': '', 'ws': '1.8', 'wsQcflg': '', 'wd': '20', 'wdQcflg': '', 'hm': '76', 'hmQcflg': '', 'pv': '17.5', 'td': '15.4', 'pa': '997.5', 'paQcflg': '', 'ps': '1007.4', 'psQcflg': '', 'ss': '0.0', 'ssQcflg': '', 'icsr': '0.16', 'dsnw': '', 'hr3Fhsc': '', 'dc10Tca': '10', 'dc10LmcsCa': '0', 'clfmAbbrCd': 'Cs', 'lcsCh': '', 'vs': '2000', 'gndSttCd': '', 'dmstMtphNo': '', 'ts': '19.8', 'tsQcflg': '', 'm005Te': '22.0', 'm01Te': '21.9', 'm02Te': '21.9', 'm03Te': '22.0'}, {'tm': '2023-06-01 08:00', 'rnum': '9', 'stnId': '108', 'stnNm': '서울', 'ta': '20.7', 'taQcflg': '', 'rn': '', 'rnQcflg': '', 'ws': '1.1', 'wsQcflg': '', 'wd': '50', 'wdQcflg': '', 'hm': '73', 'hmQcflg': '', 'pv': '17.7', 'td': '15.6', 'pa': '997.5', 'paQcflg': '', 'ps': '1007.4', 'psQcflg': '', 'ss': '0.0', 'ssQcflg': '', 'icsr': '0.47', 'dsnw': '', 'hr3Fhsc': '', 'dc10Tca': '10', 'dc10LmcsCa': '0', 'clfmAbbrCd': 'Cs', 'lcsCh': '', 'vs': '2000', 'gndSttCd': '', 'dmstMtphNo': '', 'ts': '22.6', 'tsQcflg': '', 'm005Te': '21.9', 'm01Te': '21.9', 'm02Te': '21.7', 'm03Te': '21.9'}, {'tm': '2023-06-01 09:00', 'rnum': '10', 'stnId': '108', 'stnNm': '서울', 'ta': '22.1', 'taQcflg': '', 'rn': '', 'rnQcflg': '', 'ws': '0.8', 'wsQcflg': '', 'wd': '320', 'wdQcflg': '', 'hm': '70', 'hmQcflg': '', 'pv': '18.5', 'td': '16.3', 'pa': '997.5', 'paQcflg': '', 'ps': '1007.3', 'psQcflg': '', 'ss': '0.0', 'ssQcflg': '', 'icsr': '0.93', 'dsnw': '', 'hr3Fhsc': '', 'dc10Tca': '10', 'dc10LmcsCa': '2', 'clfmAbbrCd': 'AcCs', 'lcsCh': '35', 'vs': '2000', 'gndSttCd': '', 'dmstMtphNo': '', 'ts': '26.2', 'tsQcflg': '', 'm005Te': '22.2', 'm01Te': '21.9', 'm02Te': '21.6', 'm03Te': '21.8'}]}, 'pageNo': 1, 'numOfRows': 10, 'totalCount': 24}}}\n"
     ]
    }
   ],
   "source": [
    "print(data)"
   ]
  },
  {
   "cell_type": "code",
   "execution_count": null,
   "id": "2ba49189",
   "metadata": {},
   "outputs": [],
   "source": []
  },
  {
   "cell_type": "code",
   "execution_count": null,
   "id": "224e1093",
   "metadata": {},
   "outputs": [],
   "source": []
  },
  {
   "cell_type": "code",
   "execution_count": 2,
   "id": "7e7862ab",
   "metadata": {},
   "outputs": [
    {
     "ename": "JSONDecodeError",
     "evalue": "Expecting value: line 1 column 1 (char 0)",
     "output_type": "error",
     "traceback": [
      "\u001b[1;31m---------------------------------------------------------------------------\u001b[0m",
      "\u001b[1;31mJSONDecodeError\u001b[0m                           Traceback (most recent call last)",
      "File \u001b[1;32m~\\miniconda3\\envs\\practice\\lib\\site-packages\\requests\\models.py:971\u001b[0m, in \u001b[0;36mResponse.json\u001b[1;34m(self, **kwargs)\u001b[0m\n\u001b[0;32m    970\u001b[0m \u001b[38;5;28;01mtry\u001b[39;00m:\n\u001b[1;32m--> 971\u001b[0m     \u001b[38;5;28;01mreturn\u001b[39;00m \u001b[43mcomplexjson\u001b[49m\u001b[38;5;241;43m.\u001b[39;49m\u001b[43mloads\u001b[49m\u001b[43m(\u001b[49m\u001b[38;5;28;43mself\u001b[39;49m\u001b[38;5;241;43m.\u001b[39;49m\u001b[43mtext\u001b[49m\u001b[43m,\u001b[49m\u001b[43m \u001b[49m\u001b[38;5;241;43m*\u001b[39;49m\u001b[38;5;241;43m*\u001b[39;49m\u001b[43mkwargs\u001b[49m\u001b[43m)\u001b[49m\n\u001b[0;32m    972\u001b[0m \u001b[38;5;28;01mexcept\u001b[39;00m JSONDecodeError \u001b[38;5;28;01mas\u001b[39;00m e:\n\u001b[0;32m    973\u001b[0m     \u001b[38;5;66;03m# Catch JSON-related errors and raise as requests.JSONDecodeError\u001b[39;00m\n\u001b[0;32m    974\u001b[0m     \u001b[38;5;66;03m# This aliases json.JSONDecodeError and simplejson.JSONDecodeError\u001b[39;00m\n",
      "File \u001b[1;32m~\\miniconda3\\envs\\practice\\lib\\json\\__init__.py:357\u001b[0m, in \u001b[0;36mloads\u001b[1;34m(s, cls, object_hook, parse_float, parse_int, parse_constant, object_pairs_hook, **kw)\u001b[0m\n\u001b[0;32m    354\u001b[0m \u001b[38;5;28;01mif\u001b[39;00m (\u001b[38;5;28mcls\u001b[39m \u001b[38;5;129;01mis\u001b[39;00m \u001b[38;5;28;01mNone\u001b[39;00m \u001b[38;5;129;01mand\u001b[39;00m object_hook \u001b[38;5;129;01mis\u001b[39;00m \u001b[38;5;28;01mNone\u001b[39;00m \u001b[38;5;129;01mand\u001b[39;00m\n\u001b[0;32m    355\u001b[0m         parse_int \u001b[38;5;129;01mis\u001b[39;00m \u001b[38;5;28;01mNone\u001b[39;00m \u001b[38;5;129;01mand\u001b[39;00m parse_float \u001b[38;5;129;01mis\u001b[39;00m \u001b[38;5;28;01mNone\u001b[39;00m \u001b[38;5;129;01mand\u001b[39;00m\n\u001b[0;32m    356\u001b[0m         parse_constant \u001b[38;5;129;01mis\u001b[39;00m \u001b[38;5;28;01mNone\u001b[39;00m \u001b[38;5;129;01mand\u001b[39;00m object_pairs_hook \u001b[38;5;129;01mis\u001b[39;00m \u001b[38;5;28;01mNone\u001b[39;00m \u001b[38;5;129;01mand\u001b[39;00m \u001b[38;5;129;01mnot\u001b[39;00m kw):\n\u001b[1;32m--> 357\u001b[0m     \u001b[38;5;28;01mreturn\u001b[39;00m \u001b[43m_default_decoder\u001b[49m\u001b[38;5;241;43m.\u001b[39;49m\u001b[43mdecode\u001b[49m\u001b[43m(\u001b[49m\u001b[43ms\u001b[49m\u001b[43m)\u001b[49m\n\u001b[0;32m    358\u001b[0m \u001b[38;5;28;01mif\u001b[39;00m \u001b[38;5;28mcls\u001b[39m \u001b[38;5;129;01mis\u001b[39;00m \u001b[38;5;28;01mNone\u001b[39;00m:\n",
      "File \u001b[1;32m~\\miniconda3\\envs\\practice\\lib\\json\\decoder.py:337\u001b[0m, in \u001b[0;36mJSONDecoder.decode\u001b[1;34m(self, s, _w)\u001b[0m\n\u001b[0;32m    333\u001b[0m \u001b[38;5;124;03m\"\"\"Return the Python representation of ``s`` (a ``str`` instance\u001b[39;00m\n\u001b[0;32m    334\u001b[0m \u001b[38;5;124;03mcontaining a JSON document).\u001b[39;00m\n\u001b[0;32m    335\u001b[0m \n\u001b[0;32m    336\u001b[0m \u001b[38;5;124;03m\"\"\"\u001b[39;00m\n\u001b[1;32m--> 337\u001b[0m obj, end \u001b[38;5;241m=\u001b[39m \u001b[38;5;28;43mself\u001b[39;49m\u001b[38;5;241;43m.\u001b[39;49m\u001b[43mraw_decode\u001b[49m\u001b[43m(\u001b[49m\u001b[43ms\u001b[49m\u001b[43m,\u001b[49m\u001b[43m \u001b[49m\u001b[43midx\u001b[49m\u001b[38;5;241;43m=\u001b[39;49m\u001b[43m_w\u001b[49m\u001b[43m(\u001b[49m\u001b[43ms\u001b[49m\u001b[43m,\u001b[49m\u001b[43m \u001b[49m\u001b[38;5;241;43m0\u001b[39;49m\u001b[43m)\u001b[49m\u001b[38;5;241;43m.\u001b[39;49m\u001b[43mend\u001b[49m\u001b[43m(\u001b[49m\u001b[43m)\u001b[49m\u001b[43m)\u001b[49m\n\u001b[0;32m    338\u001b[0m end \u001b[38;5;241m=\u001b[39m _w(s, end)\u001b[38;5;241m.\u001b[39mend()\n",
      "File \u001b[1;32m~\\miniconda3\\envs\\practice\\lib\\json\\decoder.py:355\u001b[0m, in \u001b[0;36mJSONDecoder.raw_decode\u001b[1;34m(self, s, idx)\u001b[0m\n\u001b[0;32m    354\u001b[0m \u001b[38;5;28;01mexcept\u001b[39;00m \u001b[38;5;167;01mStopIteration\u001b[39;00m \u001b[38;5;28;01mas\u001b[39;00m err:\n\u001b[1;32m--> 355\u001b[0m     \u001b[38;5;28;01mraise\u001b[39;00m JSONDecodeError(\u001b[38;5;124m\"\u001b[39m\u001b[38;5;124mExpecting value\u001b[39m\u001b[38;5;124m\"\u001b[39m, s, err\u001b[38;5;241m.\u001b[39mvalue) \u001b[38;5;28;01mfrom\u001b[39;00m \u001b[38;5;28mNone\u001b[39m\n\u001b[0;32m    356\u001b[0m \u001b[38;5;28;01mreturn\u001b[39;00m obj, end\n",
      "\u001b[1;31mJSONDecodeError\u001b[0m: Expecting value: line 1 column 1 (char 0)",
      "\nDuring handling of the above exception, another exception occurred:\n",
      "\u001b[1;31mJSONDecodeError\u001b[0m                           Traceback (most recent call last)",
      "Cell \u001b[1;32mIn[2], line 28\u001b[0m\n\u001b[0;32m     26\u001b[0m \u001b[38;5;66;03m# 응답 결과 확인\u001b[39;00m\n\u001b[0;32m     27\u001b[0m \u001b[38;5;28;01mif\u001b[39;00m response\u001b[38;5;241m.\u001b[39mstatus_code \u001b[38;5;241m==\u001b[39m \u001b[38;5;241m200\u001b[39m:\n\u001b[1;32m---> 28\u001b[0m     data \u001b[38;5;241m=\u001b[39m \u001b[43mresponse\u001b[49m\u001b[38;5;241;43m.\u001b[39;49m\u001b[43mjson\u001b[49m\u001b[43m(\u001b[49m\u001b[43m)\u001b[49m\n\u001b[0;32m     29\u001b[0m     items \u001b[38;5;241m=\u001b[39m data[\u001b[38;5;124m'\u001b[39m\u001b[38;5;124mresponse\u001b[39m\u001b[38;5;124m'\u001b[39m][\u001b[38;5;124m'\u001b[39m\u001b[38;5;124mbody\u001b[39m\u001b[38;5;124m'\u001b[39m][\u001b[38;5;124m'\u001b[39m\u001b[38;5;124mitems\u001b[39m\u001b[38;5;124m'\u001b[39m][\u001b[38;5;124m'\u001b[39m\u001b[38;5;124mitem\u001b[39m\u001b[38;5;124m'\u001b[39m]\n\u001b[0;32m     30\u001b[0m     \u001b[38;5;66;03m# 데이터프레임 생성\u001b[39;00m\n",
      "File \u001b[1;32m~\\miniconda3\\envs\\practice\\lib\\site-packages\\requests\\models.py:975\u001b[0m, in \u001b[0;36mResponse.json\u001b[1;34m(self, **kwargs)\u001b[0m\n\u001b[0;32m    971\u001b[0m     \u001b[38;5;28;01mreturn\u001b[39;00m complexjson\u001b[38;5;241m.\u001b[39mloads(\u001b[38;5;28mself\u001b[39m\u001b[38;5;241m.\u001b[39mtext, \u001b[38;5;241m*\u001b[39m\u001b[38;5;241m*\u001b[39mkwargs)\n\u001b[0;32m    972\u001b[0m \u001b[38;5;28;01mexcept\u001b[39;00m JSONDecodeError \u001b[38;5;28;01mas\u001b[39;00m e:\n\u001b[0;32m    973\u001b[0m     \u001b[38;5;66;03m# Catch JSON-related errors and raise as requests.JSONDecodeError\u001b[39;00m\n\u001b[0;32m    974\u001b[0m     \u001b[38;5;66;03m# This aliases json.JSONDecodeError and simplejson.JSONDecodeError\u001b[39;00m\n\u001b[1;32m--> 975\u001b[0m     \u001b[38;5;28;01mraise\u001b[39;00m RequestsJSONDecodeError(e\u001b[38;5;241m.\u001b[39mmsg, e\u001b[38;5;241m.\u001b[39mdoc, e\u001b[38;5;241m.\u001b[39mpos)\n",
      "\u001b[1;31mJSONDecodeError\u001b[0m: Expecting value: line 1 column 1 (char 0)"
     ]
    }
   ],
   "source": [
    "import requests\n",
    "import pandas as pd\n",
    "\n",
    "# API 키\n",
    "api_key = 'FNxwQLWk7jGDdCT1WrMW/IMC5OPj8UfZBNe3B8RLWewBrVMNw7cmNpo4wVmrIInf306MTSPihoKniPnjby7MGw=='\n",
    "\n",
    "# API 요청 URL\n",
    "url = 'http://apis.data.go.kr/1360000/AsosHourlyInfoService/getWthrDataList'\n",
    "\n",
    "# 요청 파라미터 설정\n",
    "params = {\n",
    "    'serviceKey': api_key,    # API 키\n",
    "    'dataType': 'JSON',       # 응답 데이터 타입\n",
    "    'dataCd': 'ASOS',         # 자료 종류 (ASOS: 기상관측)\n",
    "    'dateCd': 'HR',           # 날짜 종류 (HR: 시간)\n",
    "    'startDt': '20220401',    # 시작 날짜\n",
    "    'startHh': '00',          # 시작 시간\n",
    "    'endDt': '20230430',      # 종료 날짜\n",
    "    'endHh': '23',            # 종료 시간\n",
    "    'stnIds': '108'           # 기상 관측소 ID (여기서는 108: 서울)\n",
    "}\n",
    "\n",
    "# API 요청 보내기\n",
    "response = requests.get(url, params=params)\n",
    "\n",
    "# 응답 결과 확인\n",
    "if response.status_code == 200:\n",
    "    data = response.json()\n",
    "    items = data['response']['body']['items']['item']\n",
    "    # 데이터프레임 생성\n",
    "    df = pd.DataFrame(items)\n",
    "    # 필요한 컬럼 선택\n",
    "    columns = ['tm', 'stnId', 'ta', 'rn']\n",
    "    df = df[columns]\n",
    "    # 컬럼 이름 변경\n",
    "    df.columns = ['시간', '기상 관측소 ID', '기온(℃)', '강수량(mm)']\n",
    "    # 데이터프레임 출력 또는 활용\n",
    "    print(df)\n",
    "else:\n",
    "    print('API 요청에 실패했습니다. 응답 코드:', response.status_code)\n"
   ]
  },
  {
   "cell_type": "code",
   "execution_count": 3,
   "id": "ea173e20",
   "metadata": {},
   "outputs": [],
   "source": [
    "print(response.text)"
   ]
  },
  {
   "cell_type": "code",
   "execution_count": 4,
   "id": "d9001c4f",
   "metadata": {},
   "outputs": [],
   "source": [
    "response.content"
   ]
  },
  {
   "cell_type": "code",
   "execution_count": 5,
   "id": "40b42533",
   "metadata": {},
   "outputs": [],
   "source": [
    "data"
   ]
  },
  {
   "cell_type": "code",
   "execution_count": null,
   "id": "f3623c6d",
   "metadata": {},
   "outputs": [],
   "source": []
  },
  {
   "cell_type": "code",
   "execution_count": null,
   "id": "3fadf92e",
   "metadata": {},
   "outputs": [],
   "source": []
  },
  {
   "cell_type": "code",
   "execution_count": null,
   "id": "f0a42b24",
   "metadata": {},
   "outputs": [],
   "source": []
  },
  {
   "cell_type": "code",
   "execution_count": 10,
   "id": "6af273c5",
   "metadata": {},
   "outputs": [
    {
     "ename": "JSONDecodeError",
     "evalue": "Expecting value: line 1 column 1 (char 0)",
     "output_type": "error",
     "traceback": [
      "\u001b[1;31m---------------------------------------------------------------------------\u001b[0m",
      "\u001b[1;31mJSONDecodeError\u001b[0m                           Traceback (most recent call last)",
      "File \u001b[1;32m~\\miniconda3\\envs\\practice\\lib\\site-packages\\requests\\models.py:971\u001b[0m, in \u001b[0;36mResponse.json\u001b[1;34m(self, **kwargs)\u001b[0m\n\u001b[0;32m    970\u001b[0m \u001b[38;5;28;01mtry\u001b[39;00m:\n\u001b[1;32m--> 971\u001b[0m     \u001b[38;5;28;01mreturn\u001b[39;00m \u001b[43mcomplexjson\u001b[49m\u001b[38;5;241;43m.\u001b[39;49m\u001b[43mloads\u001b[49m\u001b[43m(\u001b[49m\u001b[38;5;28;43mself\u001b[39;49m\u001b[38;5;241;43m.\u001b[39;49m\u001b[43mtext\u001b[49m\u001b[43m,\u001b[49m\u001b[43m \u001b[49m\u001b[38;5;241;43m*\u001b[39;49m\u001b[38;5;241;43m*\u001b[39;49m\u001b[43mkwargs\u001b[49m\u001b[43m)\u001b[49m\n\u001b[0;32m    972\u001b[0m \u001b[38;5;28;01mexcept\u001b[39;00m JSONDecodeError \u001b[38;5;28;01mas\u001b[39;00m e:\n\u001b[0;32m    973\u001b[0m     \u001b[38;5;66;03m# Catch JSON-related errors and raise as requests.JSONDecodeError\u001b[39;00m\n\u001b[0;32m    974\u001b[0m     \u001b[38;5;66;03m# This aliases json.JSONDecodeError and simplejson.JSONDecodeError\u001b[39;00m\n",
      "File \u001b[1;32m~\\miniconda3\\envs\\practice\\lib\\json\\__init__.py:357\u001b[0m, in \u001b[0;36mloads\u001b[1;34m(s, cls, object_hook, parse_float, parse_int, parse_constant, object_pairs_hook, **kw)\u001b[0m\n\u001b[0;32m    354\u001b[0m \u001b[38;5;28;01mif\u001b[39;00m (\u001b[38;5;28mcls\u001b[39m \u001b[38;5;129;01mis\u001b[39;00m \u001b[38;5;28;01mNone\u001b[39;00m \u001b[38;5;129;01mand\u001b[39;00m object_hook \u001b[38;5;129;01mis\u001b[39;00m \u001b[38;5;28;01mNone\u001b[39;00m \u001b[38;5;129;01mand\u001b[39;00m\n\u001b[0;32m    355\u001b[0m         parse_int \u001b[38;5;129;01mis\u001b[39;00m \u001b[38;5;28;01mNone\u001b[39;00m \u001b[38;5;129;01mand\u001b[39;00m parse_float \u001b[38;5;129;01mis\u001b[39;00m \u001b[38;5;28;01mNone\u001b[39;00m \u001b[38;5;129;01mand\u001b[39;00m\n\u001b[0;32m    356\u001b[0m         parse_constant \u001b[38;5;129;01mis\u001b[39;00m \u001b[38;5;28;01mNone\u001b[39;00m \u001b[38;5;129;01mand\u001b[39;00m object_pairs_hook \u001b[38;5;129;01mis\u001b[39;00m \u001b[38;5;28;01mNone\u001b[39;00m \u001b[38;5;129;01mand\u001b[39;00m \u001b[38;5;129;01mnot\u001b[39;00m kw):\n\u001b[1;32m--> 357\u001b[0m     \u001b[38;5;28;01mreturn\u001b[39;00m \u001b[43m_default_decoder\u001b[49m\u001b[38;5;241;43m.\u001b[39;49m\u001b[43mdecode\u001b[49m\u001b[43m(\u001b[49m\u001b[43ms\u001b[49m\u001b[43m)\u001b[49m\n\u001b[0;32m    358\u001b[0m \u001b[38;5;28;01mif\u001b[39;00m \u001b[38;5;28mcls\u001b[39m \u001b[38;5;129;01mis\u001b[39;00m \u001b[38;5;28;01mNone\u001b[39;00m:\n",
      "File \u001b[1;32m~\\miniconda3\\envs\\practice\\lib\\json\\decoder.py:337\u001b[0m, in \u001b[0;36mJSONDecoder.decode\u001b[1;34m(self, s, _w)\u001b[0m\n\u001b[0;32m    333\u001b[0m \u001b[38;5;124;03m\"\"\"Return the Python representation of ``s`` (a ``str`` instance\u001b[39;00m\n\u001b[0;32m    334\u001b[0m \u001b[38;5;124;03mcontaining a JSON document).\u001b[39;00m\n\u001b[0;32m    335\u001b[0m \n\u001b[0;32m    336\u001b[0m \u001b[38;5;124;03m\"\"\"\u001b[39;00m\n\u001b[1;32m--> 337\u001b[0m obj, end \u001b[38;5;241m=\u001b[39m \u001b[38;5;28;43mself\u001b[39;49m\u001b[38;5;241;43m.\u001b[39;49m\u001b[43mraw_decode\u001b[49m\u001b[43m(\u001b[49m\u001b[43ms\u001b[49m\u001b[43m,\u001b[49m\u001b[43m \u001b[49m\u001b[43midx\u001b[49m\u001b[38;5;241;43m=\u001b[39;49m\u001b[43m_w\u001b[49m\u001b[43m(\u001b[49m\u001b[43ms\u001b[49m\u001b[43m,\u001b[49m\u001b[43m \u001b[49m\u001b[38;5;241;43m0\u001b[39;49m\u001b[43m)\u001b[49m\u001b[38;5;241;43m.\u001b[39;49m\u001b[43mend\u001b[49m\u001b[43m(\u001b[49m\u001b[43m)\u001b[49m\u001b[43m)\u001b[49m\n\u001b[0;32m    338\u001b[0m end \u001b[38;5;241m=\u001b[39m _w(s, end)\u001b[38;5;241m.\u001b[39mend()\n",
      "File \u001b[1;32m~\\miniconda3\\envs\\practice\\lib\\json\\decoder.py:355\u001b[0m, in \u001b[0;36mJSONDecoder.raw_decode\u001b[1;34m(self, s, idx)\u001b[0m\n\u001b[0;32m    354\u001b[0m \u001b[38;5;28;01mexcept\u001b[39;00m \u001b[38;5;167;01mStopIteration\u001b[39;00m \u001b[38;5;28;01mas\u001b[39;00m err:\n\u001b[1;32m--> 355\u001b[0m     \u001b[38;5;28;01mraise\u001b[39;00m JSONDecodeError(\u001b[38;5;124m\"\u001b[39m\u001b[38;5;124mExpecting value\u001b[39m\u001b[38;5;124m\"\u001b[39m, s, err\u001b[38;5;241m.\u001b[39mvalue) \u001b[38;5;28;01mfrom\u001b[39;00m \u001b[38;5;28mNone\u001b[39m\n\u001b[0;32m    356\u001b[0m \u001b[38;5;28;01mreturn\u001b[39;00m obj, end\n",
      "\u001b[1;31mJSONDecodeError\u001b[0m: Expecting value: line 1 column 1 (char 0)",
      "\nDuring handling of the above exception, another exception occurred:\n",
      "\u001b[1;31mJSONDecodeError\u001b[0m                           Traceback (most recent call last)",
      "Cell \u001b[1;32mIn[10], line 26\u001b[0m\n\u001b[0;32m     24\u001b[0m response \u001b[38;5;241m=\u001b[39m requests\u001b[38;5;241m.\u001b[39mget(url, params\u001b[38;5;241m=\u001b[39mparams)\n\u001b[0;32m     25\u001b[0m \u001b[38;5;28;01mif\u001b[39;00m response\u001b[38;5;241m.\u001b[39mstatus_code \u001b[38;5;241m==\u001b[39m \u001b[38;5;241m200\u001b[39m:\n\u001b[1;32m---> 26\u001b[0m     data \u001b[38;5;241m=\u001b[39m \u001b[43mresponse\u001b[49m\u001b[38;5;241;43m.\u001b[39;49m\u001b[43mjson\u001b[49m\u001b[43m(\u001b[49m\u001b[43m)\u001b[49m\n",
      "File \u001b[1;32m~\\miniconda3\\envs\\practice\\lib\\site-packages\\requests\\models.py:975\u001b[0m, in \u001b[0;36mResponse.json\u001b[1;34m(self, **kwargs)\u001b[0m\n\u001b[0;32m    971\u001b[0m     \u001b[38;5;28;01mreturn\u001b[39;00m complexjson\u001b[38;5;241m.\u001b[39mloads(\u001b[38;5;28mself\u001b[39m\u001b[38;5;241m.\u001b[39mtext, \u001b[38;5;241m*\u001b[39m\u001b[38;5;241m*\u001b[39mkwargs)\n\u001b[0;32m    972\u001b[0m \u001b[38;5;28;01mexcept\u001b[39;00m JSONDecodeError \u001b[38;5;28;01mas\u001b[39;00m e:\n\u001b[0;32m    973\u001b[0m     \u001b[38;5;66;03m# Catch JSON-related errors and raise as requests.JSONDecodeError\u001b[39;00m\n\u001b[0;32m    974\u001b[0m     \u001b[38;5;66;03m# This aliases json.JSONDecodeError and simplejson.JSONDecodeError\u001b[39;00m\n\u001b[1;32m--> 975\u001b[0m     \u001b[38;5;28;01mraise\u001b[39;00m RequestsJSONDecodeError(e\u001b[38;5;241m.\u001b[39mmsg, e\u001b[38;5;241m.\u001b[39mdoc, e\u001b[38;5;241m.\u001b[39mpos)\n",
      "\u001b[1;31mJSONDecodeError\u001b[0m: Expecting value: line 1 column 1 (char 0)"
     ]
    }
   ],
   "source": [
    "import requests\n",
    "import pandas as pd\n",
    "\n",
    "# API 키\n",
    "api_key = 'FNxwQLWk7jGDdCT1WrMW/IMC5OPj8UfZBNe3B8RLWewBrVMNw7cmNpo4wVmrIInf306MTSPihoKniPnjby7MGw=='\n",
    "\n",
    "# API 요청 URL\n",
    "url = 'http://apis.data.go.kr/1360000/AsosHourlyInfoService/getWthrDataList'\n",
    "\n",
    "# 요청 파라미터 설정\n",
    "params = {\n",
    "    'serviceKey': api_key,    # API 키\n",
    "    'dataType': 'JSON',       # 응답 데이터 타입\n",
    "    'dataCd': 'ASOS',         # 자료 종류 (ASOS: 기상관측)\n",
    "    'dateCd': 'HR',           # 날짜 종류 (HR: 시간)\n",
    "    'startDt': '20210601',    # 시작 날짜\n",
    "    'startHh': '00',          # 시작 시간\n",
    "    'endDt': '20230601',      # 종료 날짜\n",
    "    'endHh': '23',            # 종료 시간\n",
    "    'stnIds': '108'           # 기상 관측소 ID (여기서는 108: 서울)\n",
    "}\n",
    "\n",
    "# API 요청 보내기\n",
    "response = requests.get(url, params=params)\n",
    "if response.status_code == 200:\n",
    "    data = response.json()"
   ]
  },
  {
   "cell_type": "code",
   "execution_count": null,
   "id": "6080b2d5",
   "metadata": {},
   "outputs": [],
   "source": [
    "data"
   ]
  },
  {
   "cell_type": "code",
   "execution_count": 4,
   "id": "0ae4fac0",
   "metadata": {},
   "outputs": [
    {
     "name": "stdout",
     "output_type": "stream",
     "text": [
      "                 시간 기상 관측소 ID 기온(℃) 강수량(mm)\n",
      "0  2023-06-01 00:00       108  20.7        \n",
      "1  2023-06-01 01:00       108  20.5        \n",
      "2  2023-06-01 02:00       108  20.4        \n",
      "3  2023-06-01 03:00       108  20.1        \n",
      "4  2023-06-01 04:00       108  20.2        \n",
      "5  2023-06-01 05:00       108  19.9        \n",
      "6  2023-06-01 06:00       108  19.7        \n",
      "7  2023-06-01 07:00       108  19.8        \n",
      "8  2023-06-01 08:00       108  20.7        \n",
      "9  2023-06-01 09:00       108  22.1        \n"
     ]
    }
   ],
   "source": [
    "# 응답 결과 확인\n",
    "if response.status_code == 200:\n",
    "    data = response.json()\n",
    "    items = data['response']['body']['items']['item']\n",
    "    # 데이터프레임 생성\n",
    "    df = pd.DataFrame(items)\n",
    "    # 필요한 컬럼 선택\n",
    "    columns = ['tm', 'stnId', 'ta', 'rn']\n",
    "    df = df[columns]\n",
    "    # 컬럼 이름 변경\n",
    "    df.columns = ['시간', '기상 관측소 ID', '기온(℃)', '강수량(mm)']\n",
    "    # 데이터프레임 출력 또는 활용\n",
    "    print(df)\n",
    "else:\n",
    "    print('API 요청에 실패했습니다. 응답 코드:', response.status_code)"
   ]
  },
  {
   "cell_type": "code",
   "execution_count": 5,
   "id": "ac5c0468",
   "metadata": {},
   "outputs": [
    {
     "name": "stdout",
     "output_type": "stream",
     "text": [
      "{'response': {'header': {'resultCode': '00', 'resultMsg': 'NORMAL_SERVICE'}, 'body': {'dataType': 'JSON', 'items': {'item': [{'tm': '2023-06-01 00:00', 'rnum': '1', 'stnId': '108', 'stnNm': '서울', 'ta': '20.7', 'taQcflg': '', 'rn': '', 'rnQcflg': '', 'ws': '2.0', 'wsQcflg': '', 'wd': '250', 'wdQcflg': '', 'hm': '66', 'hmQcflg': '', 'pv': '16.1', 'td': '14.1', 'pa': '999.4', 'paQcflg': '', 'ps': '1009.3', 'psQcflg': '', 'ss': '', 'ssQcflg': '9', 'icsr': '', 'dsnw': '', 'hr3Fhsc': '', 'dc10Tca': '10', 'dc10LmcsCa': '0', 'clfmAbbrCd': '', 'lcsCh': '', 'vs': '2000', 'gndSttCd': '', 'dmstMtphNo': '', 'ts': '19.2', 'tsQcflg': '', 'm005Te': '23.6', 'm01Te': '23.6', 'm02Te': '23.1', 'm03Te': '22.5'}, {'tm': '2023-06-01 01:00', 'rnum': '2', 'stnId': '108', 'stnNm': '서울', 'ta': '20.5', 'taQcflg': '', 'rn': '', 'rnQcflg': '', 'ws': '1.0', 'wsQcflg': '', 'wd': '270', 'wdQcflg': '', 'hm': '67', 'hmQcflg': '', 'pv': '16.1', 'td': '14.1', 'pa': '998.9', 'paQcflg': '', 'ps': '1008.8', 'psQcflg': '', 'ss': '', 'ssQcflg': '9', 'icsr': '', 'dsnw': '', 'hr3Fhsc': '', 'dc10Tca': '10', 'dc10LmcsCa': '10', 'clfmAbbrCd': '', 'lcsCh': '48', 'vs': '2000', 'gndSttCd': '', 'dmstMtphNo': '', 'ts': '19.2', 'tsQcflg': '', 'm005Te': '23.2', 'm01Te': '23.2', 'm02Te': '22.9', 'm03Te': '22.5'}, {'tm': '2023-06-01 02:00', 'rnum': '3', 'stnId': '108', 'stnNm': '서울', 'ta': '20.4', 'taQcflg': '', 'rn': '', 'rnQcflg': '', 'ws': '1.1', 'wsQcflg': '', 'wd': '270', 'wdQcflg': '', 'hm': '69', 'hmQcflg': '', 'pv': '16.5', 'td': '14.5', 'pa': '998.8', 'paQcflg': '', 'ps': '1008.7', 'psQcflg': '', 'ss': '', 'ssQcflg': '9', 'icsr': '', 'dsnw': '', 'hr3Fhsc': '', 'dc10Tca': '10', 'dc10LmcsCa': '2', 'clfmAbbrCd': '', 'lcsCh': '16', 'vs': '2000', 'gndSttCd': '', 'dmstMtphNo': '', 'ts': '18.9', 'tsQcflg': '', 'm005Te': '23.0', 'm01Te': '23.0', 'm02Te': '22.7', 'm03Te': '22.4'}, {'tm': '2023-06-01 03:00', 'rnum': '4', 'stnId': '108', 'stnNm': '서울', 'ta': '20.1', 'taQcflg': '', 'rn': '', 'rnQcflg': '', 'ws': '1.2', 'wsQcflg': '', 'wd': '320', 'wdQcflg': '', 'hm': '70', 'hmQcflg': '', 'pv': '16.4', 'td': '14.4', 'pa': '998.5', 'paQcflg': '', 'ps': '1008.4', 'psQcflg': '', 'ss': '', 'ssQcflg': '9', 'icsr': '', 'dsnw': '', 'hr3Fhsc': '', 'dc10Tca': '10', 'dc10LmcsCa': '2', 'clfmAbbrCd': 'ScCs', 'lcsCh': '15', 'vs': '2000', 'gndSttCd': '', 'dmstMtphNo': '', 'ts': '18.7', 'tsQcflg': '', 'm005Te': '22.7', 'm01Te': '22.7', 'm02Te': '22.6', 'm03Te': '22.4'}, {'tm': '2023-06-01 04:00', 'rnum': '5', 'stnId': '108', 'stnNm': '서울', 'ta': '20.2', 'taQcflg': '', 'rn': '', 'rnQcflg': '', 'ws': '1.4', 'wsQcflg': '', 'wd': '290', 'wdQcflg': '', 'hm': '70', 'hmQcflg': '', 'pv': '16.5', 'td': '14.5', 'pa': '998.2', 'paQcflg': '', 'ps': '1008.1', 'psQcflg': '', 'ss': '', 'ssQcflg': '9', 'icsr': '', 'dsnw': '', 'hr3Fhsc': '', 'dc10Tca': '10', 'dc10LmcsCa': '3', 'clfmAbbrCd': 'ScCs', 'lcsCh': '14', 'vs': '2000', 'gndSttCd': '', 'dmstMtphNo': '', 'ts': '18.6', 'tsQcflg': '', 'm005Te': '22.5', 'm01Te': '22.5', 'm02Te': '22.4', 'm03Te': '22.3'}, {'tm': '2023-06-01 05:00', 'rnum': '6', 'stnId': '108', 'stnNm': '서울', 'ta': '19.9', 'taQcflg': '', 'rn': '', 'rnQcflg': '', 'ws': '1.4', 'wsQcflg': '', 'wd': '290', 'wdQcflg': '', 'hm': '75', 'hmQcflg': '', 'pv': '17.4', 'td': '15.3', 'pa': '997.8', 'paQcflg': '', 'ps': '1007.7', 'psQcflg': '', 'ss': '', 'ssQcflg': '9', 'icsr': '', 'dsnw': '', 'hr3Fhsc': '', 'dc10Tca': '10', 'dc10LmcsCa': '2', 'clfmAbbrCd': 'ScAcCs', 'lcsCh': '14', 'vs': '2000', 'gndSttCd': '', 'dmstMtphNo': '', 'ts': '18.5', 'tsQcflg': '', 'm005Te': '22.3', 'm01Te': '22.3', 'm02Te': '22.2', 'm03Te': '22.2'}, {'tm': '2023-06-01 06:00', 'rnum': '7', 'stnId': '108', 'stnNm': '서울', 'ta': '19.7', 'taQcflg': '', 'rn': '', 'rnQcflg': '', 'ws': '0.9', 'wsQcflg': '', 'wd': '340', 'wdQcflg': '', 'hm': '76', 'hmQcflg': '', 'pv': '17.4', 'td': '15.3', 'pa': '998.3', 'paQcflg': '', 'ps': '1008.1', 'psQcflg': '', 'ss': '0.0', 'ssQcflg': '', 'icsr': '0.02', 'dsnw': '', 'hr3Fhsc': '', 'dc10Tca': '10', 'dc10LmcsCa': '4', 'clfmAbbrCd': 'AcCs', 'lcsCh': '40', 'vs': '2000', 'gndSttCd': '', 'dmstMtphNo': '', 'ts': '18.7', 'tsQcflg': '', 'm005Te': '22.1', 'm01Te': '22.1', 'm02Te': '22.0', 'm03Te': '22.1'}, {'tm': '2023-06-01 07:00', 'rnum': '8', 'stnId': '108', 'stnNm': '서울', 'ta': '19.8', 'taQcflg': '', 'rn': '', 'rnQcflg': '', 'ws': '1.8', 'wsQcflg': '', 'wd': '20', 'wdQcflg': '', 'hm': '76', 'hmQcflg': '', 'pv': '17.5', 'td': '15.4', 'pa': '997.5', 'paQcflg': '', 'ps': '1007.4', 'psQcflg': '', 'ss': '0.0', 'ssQcflg': '', 'icsr': '0.16', 'dsnw': '', 'hr3Fhsc': '', 'dc10Tca': '10', 'dc10LmcsCa': '0', 'clfmAbbrCd': 'Cs', 'lcsCh': '', 'vs': '2000', 'gndSttCd': '', 'dmstMtphNo': '', 'ts': '19.8', 'tsQcflg': '', 'm005Te': '22.0', 'm01Te': '21.9', 'm02Te': '21.9', 'm03Te': '22.0'}, {'tm': '2023-06-01 08:00', 'rnum': '9', 'stnId': '108', 'stnNm': '서울', 'ta': '20.7', 'taQcflg': '', 'rn': '', 'rnQcflg': '', 'ws': '1.1', 'wsQcflg': '', 'wd': '50', 'wdQcflg': '', 'hm': '73', 'hmQcflg': '', 'pv': '17.7', 'td': '15.6', 'pa': '997.5', 'paQcflg': '', 'ps': '1007.4', 'psQcflg': '', 'ss': '0.0', 'ssQcflg': '', 'icsr': '0.47', 'dsnw': '', 'hr3Fhsc': '', 'dc10Tca': '10', 'dc10LmcsCa': '0', 'clfmAbbrCd': 'Cs', 'lcsCh': '', 'vs': '2000', 'gndSttCd': '', 'dmstMtphNo': '', 'ts': '22.6', 'tsQcflg': '', 'm005Te': '21.9', 'm01Te': '21.9', 'm02Te': '21.7', 'm03Te': '21.9'}, {'tm': '2023-06-01 09:00', 'rnum': '10', 'stnId': '108', 'stnNm': '서울', 'ta': '22.1', 'taQcflg': '', 'rn': '', 'rnQcflg': '', 'ws': '0.8', 'wsQcflg': '', 'wd': '320', 'wdQcflg': '', 'hm': '70', 'hmQcflg': '', 'pv': '18.5', 'td': '16.3', 'pa': '997.5', 'paQcflg': '', 'ps': '1007.3', 'psQcflg': '', 'ss': '0.0', 'ssQcflg': '', 'icsr': '0.93', 'dsnw': '', 'hr3Fhsc': '', 'dc10Tca': '10', 'dc10LmcsCa': '2', 'clfmAbbrCd': 'AcCs', 'lcsCh': '35', 'vs': '2000', 'gndSttCd': '', 'dmstMtphNo': '', 'ts': '26.2', 'tsQcflg': '', 'm005Te': '22.2', 'm01Te': '21.9', 'm02Te': '21.6', 'm03Te': '21.8'}]}, 'pageNo': 1, 'numOfRows': 10, 'totalCount': 24}}}\n"
     ]
    }
   ],
   "source": [
    "print(data)"
   ]
  },
  {
   "cell_type": "code",
   "execution_count": 6,
   "id": "c0befd22",
   "metadata": {},
   "outputs": [
    {
     "data": {
      "text/html": [
       "<div>\n",
       "<style scoped>\n",
       "    .dataframe tbody tr th:only-of-type {\n",
       "        vertical-align: middle;\n",
       "    }\n",
       "\n",
       "    .dataframe tbody tr th {\n",
       "        vertical-align: top;\n",
       "    }\n",
       "\n",
       "    .dataframe thead th {\n",
       "        text-align: right;\n",
       "    }\n",
       "</style>\n",
       "<table border=\"1\" class=\"dataframe\">\n",
       "  <thead>\n",
       "    <tr style=\"text-align: right;\">\n",
       "      <th></th>\n",
       "      <th>시간</th>\n",
       "      <th>기상 관측소 ID</th>\n",
       "      <th>기온(℃)</th>\n",
       "      <th>강수량(mm)</th>\n",
       "    </tr>\n",
       "  </thead>\n",
       "  <tbody>\n",
       "    <tr>\n",
       "      <th>0</th>\n",
       "      <td>2023-06-01 00:00</td>\n",
       "      <td>108</td>\n",
       "      <td>20.7</td>\n",
       "      <td></td>\n",
       "    </tr>\n",
       "    <tr>\n",
       "      <th>1</th>\n",
       "      <td>2023-06-01 01:00</td>\n",
       "      <td>108</td>\n",
       "      <td>20.5</td>\n",
       "      <td></td>\n",
       "    </tr>\n",
       "    <tr>\n",
       "      <th>2</th>\n",
       "      <td>2023-06-01 02:00</td>\n",
       "      <td>108</td>\n",
       "      <td>20.4</td>\n",
       "      <td></td>\n",
       "    </tr>\n",
       "    <tr>\n",
       "      <th>3</th>\n",
       "      <td>2023-06-01 03:00</td>\n",
       "      <td>108</td>\n",
       "      <td>20.1</td>\n",
       "      <td></td>\n",
       "    </tr>\n",
       "    <tr>\n",
       "      <th>4</th>\n",
       "      <td>2023-06-01 04:00</td>\n",
       "      <td>108</td>\n",
       "      <td>20.2</td>\n",
       "      <td></td>\n",
       "    </tr>\n",
       "    <tr>\n",
       "      <th>5</th>\n",
       "      <td>2023-06-01 05:00</td>\n",
       "      <td>108</td>\n",
       "      <td>19.9</td>\n",
       "      <td></td>\n",
       "    </tr>\n",
       "    <tr>\n",
       "      <th>6</th>\n",
       "      <td>2023-06-01 06:00</td>\n",
       "      <td>108</td>\n",
       "      <td>19.7</td>\n",
       "      <td></td>\n",
       "    </tr>\n",
       "    <tr>\n",
       "      <th>7</th>\n",
       "      <td>2023-06-01 07:00</td>\n",
       "      <td>108</td>\n",
       "      <td>19.8</td>\n",
       "      <td></td>\n",
       "    </tr>\n",
       "    <tr>\n",
       "      <th>8</th>\n",
       "      <td>2023-06-01 08:00</td>\n",
       "      <td>108</td>\n",
       "      <td>20.7</td>\n",
       "      <td></td>\n",
       "    </tr>\n",
       "    <tr>\n",
       "      <th>9</th>\n",
       "      <td>2023-06-01 09:00</td>\n",
       "      <td>108</td>\n",
       "      <td>22.1</td>\n",
       "      <td></td>\n",
       "    </tr>\n",
       "  </tbody>\n",
       "</table>\n",
       "</div>"
      ],
      "text/plain": [
       "                 시간 기상 관측소 ID 기온(℃) 강수량(mm)\n",
       "0  2023-06-01 00:00       108  20.7        \n",
       "1  2023-06-01 01:00       108  20.5        \n",
       "2  2023-06-01 02:00       108  20.4        \n",
       "3  2023-06-01 03:00       108  20.1        \n",
       "4  2023-06-01 04:00       108  20.2        \n",
       "5  2023-06-01 05:00       108  19.9        \n",
       "6  2023-06-01 06:00       108  19.7        \n",
       "7  2023-06-01 07:00       108  19.8        \n",
       "8  2023-06-01 08:00       108  20.7        \n",
       "9  2023-06-01 09:00       108  22.1        "
      ]
     },
     "execution_count": 6,
     "metadata": {},
     "output_type": "execute_result"
    }
   ],
   "source": [
    "df"
   ]
  },
  {
   "cell_type": "code",
   "execution_count": null,
   "id": "3fc6ca06",
   "metadata": {},
   "outputs": [],
   "source": []
  },
  {
   "cell_type": "code",
   "execution_count": null,
   "id": "4c9cb09b",
   "metadata": {},
   "outputs": [],
   "source": []
  },
  {
   "cell_type": "code",
   "execution_count": null,
   "id": "19689cc9",
   "metadata": {},
   "outputs": [],
   "source": []
  },
  {
   "cell_type": "code",
   "execution_count": 1,
   "id": "d3245a80",
   "metadata": {},
   "outputs": [
    {
     "ename": "JSONDecodeError",
     "evalue": "Expecting value: line 1 column 1 (char 0)",
     "output_type": "error",
     "traceback": [
      "\u001b[1;31m---------------------------------------------------------------------------\u001b[0m",
      "\u001b[1;31mJSONDecodeError\u001b[0m                           Traceback (most recent call last)",
      "File \u001b[1;32m~\\miniconda3\\envs\\practice\\lib\\site-packages\\requests\\models.py:971\u001b[0m, in \u001b[0;36mResponse.json\u001b[1;34m(self, **kwargs)\u001b[0m\n\u001b[0;32m    970\u001b[0m \u001b[38;5;28;01mtry\u001b[39;00m:\n\u001b[1;32m--> 971\u001b[0m     \u001b[38;5;28;01mreturn\u001b[39;00m \u001b[43mcomplexjson\u001b[49m\u001b[38;5;241;43m.\u001b[39;49m\u001b[43mloads\u001b[49m\u001b[43m(\u001b[49m\u001b[38;5;28;43mself\u001b[39;49m\u001b[38;5;241;43m.\u001b[39;49m\u001b[43mtext\u001b[49m\u001b[43m,\u001b[49m\u001b[43m \u001b[49m\u001b[38;5;241;43m*\u001b[39;49m\u001b[38;5;241;43m*\u001b[39;49m\u001b[43mkwargs\u001b[49m\u001b[43m)\u001b[49m\n\u001b[0;32m    972\u001b[0m \u001b[38;5;28;01mexcept\u001b[39;00m JSONDecodeError \u001b[38;5;28;01mas\u001b[39;00m e:\n\u001b[0;32m    973\u001b[0m     \u001b[38;5;66;03m# Catch JSON-related errors and raise as requests.JSONDecodeError\u001b[39;00m\n\u001b[0;32m    974\u001b[0m     \u001b[38;5;66;03m# This aliases json.JSONDecodeError and simplejson.JSONDecodeError\u001b[39;00m\n",
      "File \u001b[1;32m~\\miniconda3\\envs\\practice\\lib\\json\\__init__.py:357\u001b[0m, in \u001b[0;36mloads\u001b[1;34m(s, cls, object_hook, parse_float, parse_int, parse_constant, object_pairs_hook, **kw)\u001b[0m\n\u001b[0;32m    354\u001b[0m \u001b[38;5;28;01mif\u001b[39;00m (\u001b[38;5;28mcls\u001b[39m \u001b[38;5;129;01mis\u001b[39;00m \u001b[38;5;28;01mNone\u001b[39;00m \u001b[38;5;129;01mand\u001b[39;00m object_hook \u001b[38;5;129;01mis\u001b[39;00m \u001b[38;5;28;01mNone\u001b[39;00m \u001b[38;5;129;01mand\u001b[39;00m\n\u001b[0;32m    355\u001b[0m         parse_int \u001b[38;5;129;01mis\u001b[39;00m \u001b[38;5;28;01mNone\u001b[39;00m \u001b[38;5;129;01mand\u001b[39;00m parse_float \u001b[38;5;129;01mis\u001b[39;00m \u001b[38;5;28;01mNone\u001b[39;00m \u001b[38;5;129;01mand\u001b[39;00m\n\u001b[0;32m    356\u001b[0m         parse_constant \u001b[38;5;129;01mis\u001b[39;00m \u001b[38;5;28;01mNone\u001b[39;00m \u001b[38;5;129;01mand\u001b[39;00m object_pairs_hook \u001b[38;5;129;01mis\u001b[39;00m \u001b[38;5;28;01mNone\u001b[39;00m \u001b[38;5;129;01mand\u001b[39;00m \u001b[38;5;129;01mnot\u001b[39;00m kw):\n\u001b[1;32m--> 357\u001b[0m     \u001b[38;5;28;01mreturn\u001b[39;00m \u001b[43m_default_decoder\u001b[49m\u001b[38;5;241;43m.\u001b[39;49m\u001b[43mdecode\u001b[49m\u001b[43m(\u001b[49m\u001b[43ms\u001b[49m\u001b[43m)\u001b[49m\n\u001b[0;32m    358\u001b[0m \u001b[38;5;28;01mif\u001b[39;00m \u001b[38;5;28mcls\u001b[39m \u001b[38;5;129;01mis\u001b[39;00m \u001b[38;5;28;01mNone\u001b[39;00m:\n",
      "File \u001b[1;32m~\\miniconda3\\envs\\practice\\lib\\json\\decoder.py:337\u001b[0m, in \u001b[0;36mJSONDecoder.decode\u001b[1;34m(self, s, _w)\u001b[0m\n\u001b[0;32m    333\u001b[0m \u001b[38;5;124;03m\"\"\"Return the Python representation of ``s`` (a ``str`` instance\u001b[39;00m\n\u001b[0;32m    334\u001b[0m \u001b[38;5;124;03mcontaining a JSON document).\u001b[39;00m\n\u001b[0;32m    335\u001b[0m \n\u001b[0;32m    336\u001b[0m \u001b[38;5;124;03m\"\"\"\u001b[39;00m\n\u001b[1;32m--> 337\u001b[0m obj, end \u001b[38;5;241m=\u001b[39m \u001b[38;5;28;43mself\u001b[39;49m\u001b[38;5;241;43m.\u001b[39;49m\u001b[43mraw_decode\u001b[49m\u001b[43m(\u001b[49m\u001b[43ms\u001b[49m\u001b[43m,\u001b[49m\u001b[43m \u001b[49m\u001b[43midx\u001b[49m\u001b[38;5;241;43m=\u001b[39;49m\u001b[43m_w\u001b[49m\u001b[43m(\u001b[49m\u001b[43ms\u001b[49m\u001b[43m,\u001b[49m\u001b[43m \u001b[49m\u001b[38;5;241;43m0\u001b[39;49m\u001b[43m)\u001b[49m\u001b[38;5;241;43m.\u001b[39;49m\u001b[43mend\u001b[49m\u001b[43m(\u001b[49m\u001b[43m)\u001b[49m\u001b[43m)\u001b[49m\n\u001b[0;32m    338\u001b[0m end \u001b[38;5;241m=\u001b[39m _w(s, end)\u001b[38;5;241m.\u001b[39mend()\n",
      "File \u001b[1;32m~\\miniconda3\\envs\\practice\\lib\\json\\decoder.py:355\u001b[0m, in \u001b[0;36mJSONDecoder.raw_decode\u001b[1;34m(self, s, idx)\u001b[0m\n\u001b[0;32m    354\u001b[0m \u001b[38;5;28;01mexcept\u001b[39;00m \u001b[38;5;167;01mStopIteration\u001b[39;00m \u001b[38;5;28;01mas\u001b[39;00m err:\n\u001b[1;32m--> 355\u001b[0m     \u001b[38;5;28;01mraise\u001b[39;00m JSONDecodeError(\u001b[38;5;124m\"\u001b[39m\u001b[38;5;124mExpecting value\u001b[39m\u001b[38;5;124m\"\u001b[39m, s, err\u001b[38;5;241m.\u001b[39mvalue) \u001b[38;5;28;01mfrom\u001b[39;00m \u001b[38;5;28mNone\u001b[39m\n\u001b[0;32m    356\u001b[0m \u001b[38;5;28;01mreturn\u001b[39;00m obj, end\n",
      "\u001b[1;31mJSONDecodeError\u001b[0m: Expecting value: line 1 column 1 (char 0)",
      "\nDuring handling of the above exception, another exception occurred:\n",
      "\u001b[1;31mJSONDecodeError\u001b[0m                           Traceback (most recent call last)",
      "Cell \u001b[1;32mIn[1], line 25\u001b[0m\n\u001b[0;32m     23\u001b[0m \u001b[38;5;66;03m# 응답 결과 확인\u001b[39;00m\n\u001b[0;32m     24\u001b[0m \u001b[38;5;28;01mif\u001b[39;00m response\u001b[38;5;241m.\u001b[39mstatus_code \u001b[38;5;241m==\u001b[39m \u001b[38;5;241m200\u001b[39m:\n\u001b[1;32m---> 25\u001b[0m     data \u001b[38;5;241m=\u001b[39m \u001b[43mresponse\u001b[49m\u001b[38;5;241;43m.\u001b[39;49m\u001b[43mjson\u001b[49m\u001b[43m(\u001b[49m\u001b[43m)\u001b[49m\n\u001b[0;32m     26\u001b[0m     \u001b[38;5;66;03m# 데이터 처리 및 활용\u001b[39;00m\n\u001b[0;32m     27\u001b[0m \u001b[38;5;28;01melse\u001b[39;00m:\n\u001b[0;32m     28\u001b[0m     \u001b[38;5;28mprint\u001b[39m(\u001b[38;5;124m'\u001b[39m\u001b[38;5;124mAPI 요청에 실패했습니다. 응답 코드:\u001b[39m\u001b[38;5;124m'\u001b[39m, response\u001b[38;5;241m.\u001b[39mstatus_code)\n",
      "File \u001b[1;32m~\\miniconda3\\envs\\practice\\lib\\site-packages\\requests\\models.py:975\u001b[0m, in \u001b[0;36mResponse.json\u001b[1;34m(self, **kwargs)\u001b[0m\n\u001b[0;32m    971\u001b[0m     \u001b[38;5;28;01mreturn\u001b[39;00m complexjson\u001b[38;5;241m.\u001b[39mloads(\u001b[38;5;28mself\u001b[39m\u001b[38;5;241m.\u001b[39mtext, \u001b[38;5;241m*\u001b[39m\u001b[38;5;241m*\u001b[39mkwargs)\n\u001b[0;32m    972\u001b[0m \u001b[38;5;28;01mexcept\u001b[39;00m JSONDecodeError \u001b[38;5;28;01mas\u001b[39;00m e:\n\u001b[0;32m    973\u001b[0m     \u001b[38;5;66;03m# Catch JSON-related errors and raise as requests.JSONDecodeError\u001b[39;00m\n\u001b[0;32m    974\u001b[0m     \u001b[38;5;66;03m# This aliases json.JSONDecodeError and simplejson.JSONDecodeError\u001b[39;00m\n\u001b[1;32m--> 975\u001b[0m     \u001b[38;5;28;01mraise\u001b[39;00m RequestsJSONDecodeError(e\u001b[38;5;241m.\u001b[39mmsg, e\u001b[38;5;241m.\u001b[39mdoc, e\u001b[38;5;241m.\u001b[39mpos)\n",
      "\u001b[1;31mJSONDecodeError\u001b[0m: Expecting value: line 1 column 1 (char 0)"
     ]
    }
   ],
   "source": [
    "import requests\n",
    "\n",
    "# API 키\n",
    "api_key = 'FNxwQLWk7jGDdCT1WrMW/IMC5OPj8UfZBNe3B8RLWewBrVMNw7cmNpo4wVmrIInf306MTSPihoKniPnjby7MGw=='\n",
    "\n",
    "# API 요청 URL\n",
    "url = 'http://apis.data.go.kr/1360000/VilageFcstInfoService/getVilageFcst'\n",
    "\n",
    "# 요청 파라미터 설정\n",
    "params = {\n",
    "    'serviceKey': api_key,  # API 키\n",
    "    'dataType': 'JSON',     # 응답 데이터 타입\n",
    "    'base_date': '20230628',    # 기준 날짜\n",
    "    'base_time': '0500',    # 기준 시간\n",
    "    'nx': '60',             # 예보지점 X 좌표\n",
    "    'ny': '127',            # 예보지점 Y 좌표\n",
    "    'numOfRows': '10'       # 응답 결과 수\n",
    "}\n",
    "\n",
    "# API 요청 보내기\n",
    "response = requests.get(url, params=params)\n",
    "\n",
    "# 응답 결과 확인\n",
    "if response.status_code == 200:\n",
    "    data = response.json()\n",
    "    # 데이터 처리 및 활용\n",
    "else:\n",
    "    print('API 요청에 실패했습니다. 응답 코드:', response.status_code)\n"
   ]
  },
  {
   "cell_type": "code",
   "execution_count": 2,
   "id": "d886938c",
   "metadata": {},
   "outputs": [
    {
     "ename": "AttributeError",
     "evalue": "'Response' object has no attribute 'txt'",
     "output_type": "error",
     "traceback": [
      "\u001b[1;31m---------------------------------------------------------------------------\u001b[0m",
      "\u001b[1;31mAttributeError\u001b[0m                            Traceback (most recent call last)",
      "Cell \u001b[1;32mIn[2], line 1\u001b[0m\n\u001b[1;32m----> 1\u001b[0m \u001b[43mresponse\u001b[49m\u001b[38;5;241;43m.\u001b[39;49m\u001b[43mtxt\u001b[49m\n",
      "\u001b[1;31mAttributeError\u001b[0m: 'Response' object has no attribute 'txt'"
     ]
    }
   ],
   "source": [
    "response.txt"
   ]
  },
  {
   "cell_type": "code",
   "execution_count": null,
   "id": "b6c24ca4",
   "metadata": {},
   "outputs": [],
   "source": []
  },
  {
   "cell_type": "code",
   "execution_count": null,
   "id": "98440479",
   "metadata": {},
   "outputs": [],
   "source": []
  },
  {
   "cell_type": "code",
   "execution_count": null,
   "id": "1c63bbc2",
   "metadata": {},
   "outputs": [],
   "source": []
  },
  {
   "cell_type": "code",
   "execution_count": null,
   "id": "5ba1ea2f",
   "metadata": {},
   "outputs": [],
   "source": []
  },
  {
   "cell_type": "code",
   "execution_count": null,
   "id": "de01ed06",
   "metadata": {},
   "outputs": [],
   "source": []
  },
  {
   "cell_type": "code",
   "execution_count": 39,
   "id": "367f1c2f",
   "metadata": {},
   "outputs": [
    {
     "name": "stdout",
     "output_type": "stream",
     "text": [
      "b'<?xml version=\"1.0\" encoding=\"UTF-8\"?>\\r\\n<response><header><resultCode>10</resultCode><resultMsg>\\xec\\xb5\\x9c\\xea\\xb7\\xbc 1\\xec\\x9d\\xbc \\xea\\xb0\\x84\\xec\\x9d\\x98 \\xec\\x9e\\x90\\xeb\\xa3\\x8c\\xeb\\xa7\\x8c \\xec\\xa0\\x9c\\xea\\xb3\\xb5\\xed\\x95\\xa9\\xeb\\x8b\\x88\\xeb\\x8b\\xa4.</resultMsg></header></response>\\r\\n'\n"
     ]
    }
   ],
   "source": [
    "import requests\n",
    "\n",
    "url = 'http://apis.data.go.kr/1360000/VilageFcstInfoService_2.0/getUltraSrtNcst'\n",
    "params ={'serviceKey' : 'FNxwQLWk7jGDdCT1WrMW/IMC5OPj8UfZBNe3B8RLWewBrVMNw7cmNpo4wVmrIInf306MTSPihoKniPnjby7MGw==', 'pageNo' : '1', 'numOfRows' : '1000', 'dataType' : 'XML', 'base_date' : '20210628', 'base_time' : '0600', 'nx' : '55', 'ny' : '127' }\n",
    "\n",
    "response = requests.get(url, params=params)\n",
    "print(response.content)"
   ]
  },
  {
   "cell_type": "code",
   "execution_count": 42,
   "id": "efa31d2c",
   "metadata": {},
   "outputs": [
    {
     "ename": "IndentationError",
     "evalue": "unexpected indent (2210187578.py, line 6)",
     "output_type": "error",
     "traceback": [
      "\u001b[1;36m  Cell \u001b[1;32mIn[42], line 6\u001b[1;36m\u001b[0m\n\u001b[1;33m    serviceKeyDecoded = unquote('FNxwQLWk7jGDdCT1WrMW/IMC5OPj8UfZBNe3B8RLWewBrVMNw7cmNpo4wVmrIInf306MTSPihoKniPnjby7MGw==', 'UTF-8') # 공데이터 포털에서 제공하는 서비스키는 이미 인코딩된 상태이므로, 디코딩하여 사용해야 함\u001b[0m\n\u001b[1;37m    ^\u001b[0m\n\u001b[1;31mIndentationError\u001b[0m\u001b[1;31m:\u001b[0m unexpected indent\n"
     ]
    }
   ],
   "source": [
    "\n",
    "# 기상청_동네 예보 조회 서비스 api 데이터 url 주소, 초단기이기때문에 getUltraSrtFcst 사용\n",
    "url = \"https://apis.data.go.kr/1360000/VilageFcstInfoService_2.0/getUltraSrtFcst\"\n",
    "\n",
    "    # serviceKey = \"FNxwQLWk7jGDdCT1WrMW/IMC5OPj8UfZBNe3B8RLWewBrVMNw7cmNpo4wVmrIInf306MTSPihoKniPnjby7MGw==\" \n",
    "    # 공공데이터 포털에서 생성된 본인의 서비스 키를 복사 / 붙여넣기\n",
    "    serviceKeyDecoded = unquote('FNxwQLWk7jGDdCT1WrMW/IMC5OPj8UfZBNe3B8RLWewBrVMNw7cmNpo4wVmrIInf306MTSPihoKniPnjby7MGw==', 'UTF-8') # 공데이터 포털에서 제공하는 서비스키는 이미 인코딩된 상태이므로, 디코딩하여 사용해야 함\n",
    "\n",
    "    now = datetime.now()\n",
    "    today = datetime.today().strftime(\"%Y%m%d\")\n",
    "    y = date.today() - timedelta(days=1)\n",
    "    yesterday = y.strftime(\"%Y%m%d\")\n",
    "    nx = 60 # 위도와 경도를 x,y좌표로 변경\n",
    "    ny = 127\n",
    "    \n",
    "        if now.minute<45: # base_time와 base_date 구하는 함수\n",
    "        if now.hour==0:\n",
    "            base_time = \"2330\"\n",
    "            base_date = yesterday\n",
    "        else:\n",
    "            pre_hour = now.hour-1\n",
    "            if pre_hour<10:\n",
    "                base_time = \"0\" + str(pre_hour) + \"30\"\n",
    "            else:\n",
    "                base_time = str(pre_hour) + \"30\"\n",
    "            base_date = today\n",
    "    else:\n",
    "        if now.hour < 10:\n",
    "            base_time = \"0\" + str(now.hour) + \"30\"\n",
    "        else:\n",
    "            base_time = str(now.hour) + \"30\"\n",
    "        base_date = today"
   ]
  },
  {
   "cell_type": "code",
   "execution_count": null,
   "id": "d73cd631",
   "metadata": {},
   "outputs": [],
   "source": []
  },
  {
   "cell_type": "code",
   "execution_count": null,
   "id": "498b696e",
   "metadata": {},
   "outputs": [],
   "source": []
  },
  {
   "cell_type": "code",
   "execution_count": null,
   "id": "b48dda67",
   "metadata": {},
   "outputs": [],
   "source": []
  },
  {
   "cell_type": "code",
   "execution_count": null,
   "id": "0c928b6e",
   "metadata": {},
   "outputs": [],
   "source": []
  },
  {
   "cell_type": "code",
   "execution_count": null,
   "id": "8f44159c",
   "metadata": {},
   "outputs": [],
   "source": []
  },
  {
   "cell_type": "code",
   "execution_count": null,
   "id": "731f91b8",
   "metadata": {},
   "outputs": [],
   "source": []
  },
  {
   "cell_type": "code",
   "execution_count": null,
   "id": "7b5b9b8e",
   "metadata": {},
   "outputs": [],
   "source": []
  },
  {
   "cell_type": "code",
   "execution_count": null,
   "id": "f4c386d2",
   "metadata": {},
   "outputs": [],
   "source": []
  },
  {
   "cell_type": "code",
   "execution_count": null,
   "id": "cdab4691",
   "metadata": {},
   "outputs": [],
   "source": []
  },
  {
   "cell_type": "code",
   "execution_count": 45,
   "id": "2e97d5b2",
   "metadata": {},
   "outputs": [
    {
     "ename": "ExpatError",
     "evalue": "not well-formed (invalid token): line 1, column 0",
     "output_type": "error",
     "traceback": [
      "\u001b[1;31m---------------------------------------------------------------------------\u001b[0m",
      "\u001b[1;31mExpatError\u001b[0m                                Traceback (most recent call last)",
      "Cell \u001b[1;32mIn[45], line 28\u001b[0m\n\u001b[0;32m     25\u001b[0m url \u001b[38;5;241m=\u001b[39m \u001b[38;5;124m'\u001b[39m\u001b[38;5;124mhttps://apis.data.go.kr/1360000/VilageFcstInfoService_2.0/getUltraSrtFcst?serviceKey=\u001b[39m\u001b[38;5;132;01m{}\u001b[39;00m\u001b[38;5;124m&pageNo=\u001b[39m\u001b[38;5;132;01m{}\u001b[39;00m\u001b[38;5;124m&numOfRows=\u001b[39m\u001b[38;5;132;01m{}\u001b[39;00m\u001b[38;5;124m&dataType=\u001b[39m\u001b[38;5;132;01m{}\u001b[39;00m\u001b[38;5;124m&base_date=\u001b[39m\u001b[38;5;132;01m{}\u001b[39;00m\u001b[38;5;124m&base_time=\u001b[39m\u001b[38;5;132;01m{}\u001b[39;00m\u001b[38;5;124m&nx=\u001b[39m\u001b[38;5;132;01m{}\u001b[39;00m\u001b[38;5;124m&ny=\u001b[39m\u001b[38;5;132;01m{}\u001b[39;00m\u001b[38;5;124m'\u001b[39m\u001b[38;5;241m.\u001b[39mformat(serviceKey,pageNo,numOfRows,dataType,base_date,base_time,nx,ny)\n\u001b[0;32m     27\u001b[0m response \u001b[38;5;241m=\u001b[39m requests\u001b[38;5;241m.\u001b[39mget(url, verify\u001b[38;5;241m=\u001b[39m\u001b[38;5;28;01mFalse\u001b[39;00m)\n\u001b[1;32m---> 28\u001b[0m dict_data \u001b[38;5;241m=\u001b[39m \u001b[43mxmltodict\u001b[49m\u001b[38;5;241;43m.\u001b[39;49m\u001b[43mparse\u001b[49m\u001b[43m(\u001b[49m\u001b[43mresponse\u001b[49m\u001b[38;5;241;43m.\u001b[39;49m\u001b[43mtext\u001b[49m\u001b[43m)\u001b[49m\n\u001b[0;32m     29\u001b[0m json_data \u001b[38;5;241m=\u001b[39m json\u001b[38;5;241m.\u001b[39mdumps(dict_data, ensure_ascii\u001b[38;5;241m=\u001b[39m\u001b[38;5;28;01mFalse\u001b[39;00m)\n\u001b[0;32m     30\u001b[0m r_data \u001b[38;5;241m=\u001b[39m json\u001b[38;5;241m.\u001b[39mloads(response\u001b[38;5;241m.\u001b[39mtext)\n",
      "File \u001b[1;32m~\\miniconda3\\envs\\practice\\lib\\site-packages\\xmltodict.py:378\u001b[0m, in \u001b[0;36mparse\u001b[1;34m(xml_input, encoding, expat, process_namespaces, namespace_separator, disable_entities, process_comments, **kwargs)\u001b[0m\n\u001b[0;32m    376\u001b[0m     parser\u001b[38;5;241m.\u001b[39mParse(\u001b[38;5;124mb\u001b[39m\u001b[38;5;124m'\u001b[39m\u001b[38;5;124m'\u001b[39m,\u001b[38;5;28;01mTrue\u001b[39;00m)\n\u001b[0;32m    377\u001b[0m \u001b[38;5;28;01melse\u001b[39;00m:\n\u001b[1;32m--> 378\u001b[0m     \u001b[43mparser\u001b[49m\u001b[38;5;241;43m.\u001b[39;49m\u001b[43mParse\u001b[49m\u001b[43m(\u001b[49m\u001b[43mxml_input\u001b[49m\u001b[43m,\u001b[49m\u001b[43m \u001b[49m\u001b[38;5;28;43;01mTrue\u001b[39;49;00m\u001b[43m)\u001b[49m\n\u001b[0;32m    379\u001b[0m \u001b[38;5;28;01mreturn\u001b[39;00m handler\u001b[38;5;241m.\u001b[39mitem\n",
      "\u001b[1;31mExpatError\u001b[0m: not well-formed (invalid token): line 1, column 0"
     ]
    }
   ],
   "source": [
    "from urllib.request import urlopen\n",
    "from urllib.parse import urlencode, unquote, quote_plus\n",
    "import urllib\n",
    "import requests\n",
    "import json\n",
    "import pandas as pd\n",
    "from datetime import datetime,timedelta\n",
    "import warnings\n",
    "import xmltodict # 결과가 xml 형식으로 반환된다. 이것을 dict 로 바꿔주는 라이브러리다\n",
    "\n",
    "warnings.filterwarnings('ignore')\n",
    "\n",
    "#초단기예보조회\n",
    "#초단기예보정보를 조회하기 위해 발표일자, 발표시각, 예보지점 X 좌표, 예보지점 Y 좌표의 조회 조건으로 자료구분코드, 예보값, 발표일자, 발표시각, 예보지점 X 좌표, 예보지점 Y 좌표의 정보를 조회하는 기능\n",
    "\n",
    "serviceKey='FNxwQLWk7jGDdCT1WrMW/IMC5OPj8UfZBNe3B8RLWewBrVMNw7cmNpo4wVmrIInf306MTSPihoKniPnjby7MGw==' #api 키\n",
    "pageNo = '1' #페이지번호\n",
    "numOfRows = '10' #한 페이지 결과 수\n",
    "dataType = 'json' #요청자료형식(XML/JSON) Default: XML\n",
    "base_date = '20220813' #‘22년 8월 13일 발표\n",
    "base_time='0630' #06시30분 발표(30분 단위)\n",
    "nx='55'  #예보지점 X 좌표값\n",
    "ny='127'  #예보지점 Y 좌표값\n",
    "\n",
    "url = 'https://apis.data.go.kr/1360000/VilageFcstInfoService_2.0/getUltraSrtFcst?serviceKey={}&pageNo={}&numOfRows={}&dataType={}&base_date={}&base_time={}&nx={}&ny={}'.format(serviceKey,pageNo,numOfRows,dataType,base_date,base_time,nx,ny)\n",
    "\n",
    "response = requests.get(url, verify=False)\n",
    "dict_data = xmltodict.parse(response.text)\n",
    "json_data = json.dumps(dict_data, ensure_ascii=False)\n",
    "r_data = json.loads(response.text)\n",
    "\n",
    "\n",
    "#Shape of passed values is (2, 4), indices imply (1, 4)\n",
    "#data = pd.DataFrame(r_data['response']['body']['items']['item'])  이걸로 넣어주면 됨.\n",
    "\n",
    "#If using all scalar values, you must pass an index 에러 문구가 뜰 경우, index=[0]\n",
    "#data = pd.DataFrame(r_data['response']['body']['items']['item'], index=[0]) 이렇게 바꿔주면됨.\n",
    "\n"
   ]
  },
  {
   "cell_type": "code",
   "execution_count": null,
   "id": "29716f34",
   "metadata": {},
   "outputs": [],
   "source": []
  },
  {
   "cell_type": "code",
   "execution_count": null,
   "id": "a051afcc",
   "metadata": {},
   "outputs": [],
   "source": []
  },
  {
   "cell_type": "code",
   "execution_count": 44,
   "id": "d3b522d2",
   "metadata": {},
   "outputs": [
    {
     "data": {
      "text/plain": [
       "{'response': {'header': {'resultCode': '10',\n",
       "   'resultMsg': '최근 3일 간의 자료만 제공합니다.'}}}"
      ]
     },
     "execution_count": 44,
     "metadata": {},
     "output_type": "execute_result"
    }
   ],
   "source": [
    "r_data "
   ]
  },
  {
   "cell_type": "code",
   "execution_count": null,
   "id": "16e60e9e",
   "metadata": {},
   "outputs": [],
   "source": []
  },
  {
   "cell_type": "code",
   "execution_count": null,
   "id": "c2afcd36",
   "metadata": {},
   "outputs": [],
   "source": []
  },
  {
   "cell_type": "code",
   "execution_count": null,
   "id": "3a2e7d8c",
   "metadata": {},
   "outputs": [],
   "source": []
  },
  {
   "cell_type": "code",
   "execution_count": null,
   "id": "01dcf0cf",
   "metadata": {},
   "outputs": [],
   "source": []
  },
  {
   "cell_type": "code",
   "execution_count": 33,
   "id": "e1b89d87",
   "metadata": {},
   "outputs": [
    {
     "ename": "IndentationError",
     "evalue": "unexpected indent (3231240653.py, line 4)",
     "output_type": "error",
     "traceback": [
      "\u001b[1;36m  Cell \u001b[1;32mIn[33], line 4\u001b[1;36m\u001b[0m\n\u001b[1;33m    serviceKey = \"\"\u001b[0m\n\u001b[1;37m    ^\u001b[0m\n\u001b[1;31mIndentationError\u001b[0m\u001b[1;31m:\u001b[0m unexpected indent\n"
     ]
    }
   ],
   "source": [
    "# 기상청_동네 예보 조회 서비스 api 데이터 url 주소, 초단기이기때문에 getUltraSrtFcst 사용\n",
    "url = \"https://apis.data.go.kr/1360000/VilageFcstInfoService_2.0/getUltraSrtFcst\"\n",
    "\n",
    "    serviceKey = \"\" \n",
    "    # 공공데이터 포털에서 생성된 본인의 서비스 키를 복사 / 붙여넣기\n",
    "    serviceKeyDecoded = unquote(serviceKey, 'UTF-8') # 공데이터 포털에서 제공하는 서비스키는 이미 인코딩된 상태이므로, 디코딩하여 사용해야 함\n",
    "\n",
    "    now = datetime.now()\n",
    "    today = datetime.today().strftime(\"%Y%m%d\")\n",
    "    y = date.today() - timedelta(days=1)\n",
    "    yesterday = y.strftime(\"%Y%m%d\")\n",
    "    nx = 60 # 위도와 경도를 x,y좌표로 변경\n",
    "    ny = 127\n",
    "    \n",
    "        if now.minute<45: # base_time와 base_date 구하는 함수\n",
    "        if now.hour==0:\n",
    "            base_time = \"2330\"\n",
    "            base_date = yesterday\n",
    "        else:\n",
    "            pre_hour = now.hour-1\n",
    "            if pre_hour<10:\n",
    "                base_time = \"0\" + str(pre_hour) + \"30\"\n",
    "            else:\n",
    "                base_time = str(pre_hour) + \"30\"\n",
    "            base_date = today\n",
    "    else:\n",
    "        if now.hour < 10:\n",
    "            base_time = \"0\" + str(now.hour) + \"30\"\n",
    "        else:\n",
    "            base_time = str(now.hour) + \"30\"\n",
    "        base_date = today"
   ]
  },
  {
   "cell_type": "code",
   "execution_count": null,
   "id": "24bad278",
   "metadata": {},
   "outputs": [],
   "source": []
  },
  {
   "cell_type": "code",
   "execution_count": null,
   "id": "6e310e9d",
   "metadata": {},
   "outputs": [],
   "source": []
  },
  {
   "cell_type": "code",
   "execution_count": null,
   "id": "472019a6",
   "metadata": {},
   "outputs": [],
   "source": []
  },
  {
   "cell_type": "code",
   "execution_count": null,
   "id": "4f0f666d",
   "metadata": {},
   "outputs": [],
   "source": []
  },
  {
   "cell_type": "code",
   "execution_count": 25,
   "id": "225c7a71",
   "metadata": {},
   "outputs": [
    {
     "name": "stdout",
     "output_type": "stream",
     "text": [
      "b'<?xml version=\"1.0\" encoding=\"UTF-8\"?>\\r\\n<response><header><resultCode>11</resultCode><resultMsg>NO_MANDATORY_REQUEST_PARAMETERS_ERROR</resultMsg></header></response>\\r\\n'\n"
     ]
    }
   ],
   "source": [
    "# 모듈 import\n",
    "import requests\n",
    "import pprint\n",
    "\n",
    "\n",
    "#인증키 입력\n",
    "encoding = 'FNxwQLWk7jGDdCT1WrMW%2FIMC5OPj8UfZBNe3B8RLWewBrVMNw7cmNpo4wVmrIInf306MTSPihoKniPnjby7MGw%3D%3D'\n",
    "decoding = 'FNxwQLWk7jGDdCT1WrMW/IMC5OPj8UfZBNe3B8RLWewBrVMNw7cmNpo4wVmrIInf306MTSPihoKniPnjby7MGw=='\n",
    "\n",
    "#url 입력\n",
    "url = 'http://apis.data.go.kr/1360000/WthrWrnInfoService/getWthrInfo'\n",
    "params ={'serviceKey' : decoding , 'pageNo' : '1', 'numOfRows' : '10', 'startCreateDt' : '2020', 'endCreateDt' : '20211103' }\n",
    "\n",
    "response = requests.get(url, params=params)\n",
    "print(response.content)"
   ]
  },
  {
   "cell_type": "code",
   "execution_count": 26,
   "id": "71e16c5d",
   "metadata": {
    "scrolled": true
   },
   "outputs": [
    {
     "name": "stdout",
     "output_type": "stream",
     "text": [
      "b'<?xml version=\"1.0\" encoding=\"UTF-8\"?>\\r\\n<response><header><resultCode>11</resultCode><resultMsg>NO_MANDATORY_REQUEST_PARAMETERS_ERROR</resultMsg></header></response>\\r\\n'\n"
     ]
    }
   ],
   "source": [
    "response = requests.get(url, params=params)\n",
    "print(response.content)"
   ]
  },
  {
   "cell_type": "code",
   "execution_count": null,
   "id": "7db9cd9e",
   "metadata": {},
   "outputs": [],
   "source": []
  },
  {
   "cell_type": "code",
   "execution_count": 27,
   "id": "a0fb625b",
   "metadata": {},
   "outputs": [],
   "source": [
    "url='http://apis.data.go.kr/1360000/WthrWrnInfoService/getWthrInfo?serviceKey=FNxwQLWk7jGDdCT1WrMW/IMC5OPj8UfZBNe3B8RLWewBrVMNw7cmNpo4wVmrIInf306MTSPihoKniPnjby7MGw==&numOfRows=10&pageNo=1&stnId=108&fromTmFc=20170607&toTmFc=20170607'"
   ]
  },
  {
   "cell_type": "code",
   "execution_count": 28,
   "id": "aa08b97b",
   "metadata": {},
   "outputs": [],
   "source": [
    "response = requests.get(url)\n",
    "contents = response.text"
   ]
  },
  {
   "cell_type": "code",
   "execution_count": 29,
   "id": "2e1b0b22",
   "metadata": {},
   "outputs": [
    {
     "name": "stdout",
     "output_type": "stream",
     "text": [
      "('<?xml version=\"1.0\" encoding=\"UTF-8\"?>\\r\\n'\n",
      " '<response><header><resultCode>99</resultCode><resultMsg>최대 조회 기간은 오늘 기준으로 6일 '\n",
      " '전까지입니다.</resultMsg></header></response>\\r\\n')\n",
      "None\n"
     ]
    }
   ],
   "source": [
    "pp = pprint.PrettyPrinter(indent=4)\n",
    "print(pp.pprint(contents))"
   ]
  },
  {
   "cell_type": "code",
   "execution_count": null,
   "id": "c88b90f2",
   "metadata": {},
   "outputs": [],
   "source": []
  },
  {
   "cell_type": "code",
   "execution_count": null,
   "id": "afbc6b69",
   "metadata": {},
   "outputs": [],
   "source": []
  },
  {
   "cell_type": "code",
   "execution_count": null,
   "id": "39da1123",
   "metadata": {},
   "outputs": [],
   "source": []
  },
  {
   "cell_type": "code",
   "execution_count": 19,
   "id": "137fc167",
   "metadata": {},
   "outputs": [],
   "source": [
    "url = \"http://api.data.go.kr/openapi/tn_pubr_public_ovrspd_prvn_manage_api?serviceKey=FNxwQLWk7jGDdCT1WrMW/IMC5OPj8UfZBNe3B8RLWewBrVMNw7cmNpo4wVmrIInf306MTSPihoKniPnjby7MGw==&pageNo=1&numOfRows=100&type=json\""
   ]
  },
  {
   "cell_type": "code",
   "execution_count": 20,
   "id": "b2b3fea6",
   "metadata": {},
   "outputs": [],
   "source": [
    "response = requests.get(url)\n",
    "contents = response.text"
   ]
  },
  {
   "cell_type": "code",
   "execution_count": 21,
   "id": "c6ccca26",
   "metadata": {},
   "outputs": [
    {
     "name": "stdout",
     "output_type": "stream",
     "text": [
      "('{\"response\":{\"header\":{\"resultCode\": \"30\",\"resultMsg\":\"SERVICE KEY IS NOT '\n",
      " 'REGISTERED ERROR.\"}}}')\n",
      "None\n"
     ]
    }
   ],
   "source": [
    "## 보다 예쁘게 출력하기 위해..\n",
    "##  indent는 들여쓴다는 의미\n",
    "pp = pprint.PrettyPrinter(indent=4)\n",
    "print(pp.pprint(contents))"
   ]
  },
  {
   "cell_type": "code",
   "execution_count": 6,
   "id": "1a822c20",
   "metadata": {},
   "outputs": [
    {
     "ename": "ConnectionError",
     "evalue": "HTTPConnectionPool(host='apis.data.go.kr', port=80): Max retries exceeded with url: /1360000/WthrWrnInfoService?serviceKey=FNxwQLWk7jGDdCT1WrMW%2FIMC5OPj8UfZBNe3B8RLWewBrVMNw7cmNpo4wVmrIInf306MTSPihoKniPnjby7MGw%3D%3D&pageNo=1&numOfRows=10&dataType=XML&stnId=184&fromTmFc=20170601&toTmFc=20170607 (Caused by NewConnectionError('<urllib3.connection.HTTPConnection object at 0x0000016B361206A0>: Failed to establish a new connection: [WinError 10060] 연결된 구성원으로부터 응답이 없어 연결하지 못했거나, 호스트로부터 응답이 없어 연결이 끊어졌습니다'))",
     "output_type": "error",
     "traceback": [
      "\u001b[1;31m---------------------------------------------------------------------------\u001b[0m",
      "\u001b[1;31mTimeoutError\u001b[0m                              Traceback (most recent call last)",
      "File \u001b[1;32m~\\miniconda3\\envs\\practice\\lib\\site-packages\\urllib3\\connection.py:174\u001b[0m, in \u001b[0;36mHTTPConnection._new_conn\u001b[1;34m(self)\u001b[0m\n\u001b[0;32m    173\u001b[0m \u001b[38;5;28;01mtry\u001b[39;00m:\n\u001b[1;32m--> 174\u001b[0m     conn \u001b[38;5;241m=\u001b[39m \u001b[43mconnection\u001b[49m\u001b[38;5;241;43m.\u001b[39;49m\u001b[43mcreate_connection\u001b[49m\u001b[43m(\u001b[49m\n\u001b[0;32m    175\u001b[0m \u001b[43m        \u001b[49m\u001b[43m(\u001b[49m\u001b[38;5;28;43mself\u001b[39;49m\u001b[38;5;241;43m.\u001b[39;49m\u001b[43m_dns_host\u001b[49m\u001b[43m,\u001b[49m\u001b[43m \u001b[49m\u001b[38;5;28;43mself\u001b[39;49m\u001b[38;5;241;43m.\u001b[39;49m\u001b[43mport\u001b[49m\u001b[43m)\u001b[49m\u001b[43m,\u001b[49m\u001b[43m \u001b[49m\u001b[38;5;28;43mself\u001b[39;49m\u001b[38;5;241;43m.\u001b[39;49m\u001b[43mtimeout\u001b[49m\u001b[43m,\u001b[49m\u001b[43m \u001b[49m\u001b[38;5;241;43m*\u001b[39;49m\u001b[38;5;241;43m*\u001b[39;49m\u001b[43mextra_kw\u001b[49m\n\u001b[0;32m    176\u001b[0m \u001b[43m    \u001b[49m\u001b[43m)\u001b[49m\n\u001b[0;32m    178\u001b[0m \u001b[38;5;28;01mexcept\u001b[39;00m SocketTimeout:\n",
      "File \u001b[1;32m~\\miniconda3\\envs\\practice\\lib\\site-packages\\urllib3\\util\\connection.py:95\u001b[0m, in \u001b[0;36mcreate_connection\u001b[1;34m(address, timeout, source_address, socket_options)\u001b[0m\n\u001b[0;32m     94\u001b[0m \u001b[38;5;28;01mif\u001b[39;00m err \u001b[38;5;129;01mis\u001b[39;00m \u001b[38;5;129;01mnot\u001b[39;00m \u001b[38;5;28;01mNone\u001b[39;00m:\n\u001b[1;32m---> 95\u001b[0m     \u001b[38;5;28;01mraise\u001b[39;00m err\n\u001b[0;32m     97\u001b[0m \u001b[38;5;28;01mraise\u001b[39;00m socket\u001b[38;5;241m.\u001b[39merror(\u001b[38;5;124m\"\u001b[39m\u001b[38;5;124mgetaddrinfo returns an empty list\u001b[39m\u001b[38;5;124m\"\u001b[39m)\n",
      "File \u001b[1;32m~\\miniconda3\\envs\\practice\\lib\\site-packages\\urllib3\\util\\connection.py:85\u001b[0m, in \u001b[0;36mcreate_connection\u001b[1;34m(address, timeout, source_address, socket_options)\u001b[0m\n\u001b[0;32m     84\u001b[0m     sock\u001b[38;5;241m.\u001b[39mbind(source_address)\n\u001b[1;32m---> 85\u001b[0m \u001b[43msock\u001b[49m\u001b[38;5;241;43m.\u001b[39;49m\u001b[43mconnect\u001b[49m\u001b[43m(\u001b[49m\u001b[43msa\u001b[49m\u001b[43m)\u001b[49m\n\u001b[0;32m     86\u001b[0m \u001b[38;5;28;01mreturn\u001b[39;00m sock\n",
      "\u001b[1;31mTimeoutError\u001b[0m: [WinError 10060] 연결된 구성원으로부터 응답이 없어 연결하지 못했거나, 호스트로부터 응답이 없어 연결이 끊어졌습니다",
      "\nDuring handling of the above exception, another exception occurred:\n",
      "\u001b[1;31mNewConnectionError\u001b[0m                        Traceback (most recent call last)",
      "File \u001b[1;32m~\\miniconda3\\envs\\practice\\lib\\site-packages\\urllib3\\connectionpool.py:703\u001b[0m, in \u001b[0;36mHTTPConnectionPool.urlopen\u001b[1;34m(self, method, url, body, headers, retries, redirect, assert_same_host, timeout, pool_timeout, release_conn, chunked, body_pos, **response_kw)\u001b[0m\n\u001b[0;32m    702\u001b[0m \u001b[38;5;66;03m# Make the request on the httplib connection object.\u001b[39;00m\n\u001b[1;32m--> 703\u001b[0m httplib_response \u001b[38;5;241m=\u001b[39m \u001b[38;5;28;43mself\u001b[39;49m\u001b[38;5;241;43m.\u001b[39;49m\u001b[43m_make_request\u001b[49m\u001b[43m(\u001b[49m\n\u001b[0;32m    704\u001b[0m \u001b[43m    \u001b[49m\u001b[43mconn\u001b[49m\u001b[43m,\u001b[49m\n\u001b[0;32m    705\u001b[0m \u001b[43m    \u001b[49m\u001b[43mmethod\u001b[49m\u001b[43m,\u001b[49m\n\u001b[0;32m    706\u001b[0m \u001b[43m    \u001b[49m\u001b[43murl\u001b[49m\u001b[43m,\u001b[49m\n\u001b[0;32m    707\u001b[0m \u001b[43m    \u001b[49m\u001b[43mtimeout\u001b[49m\u001b[38;5;241;43m=\u001b[39;49m\u001b[43mtimeout_obj\u001b[49m\u001b[43m,\u001b[49m\n\u001b[0;32m    708\u001b[0m \u001b[43m    \u001b[49m\u001b[43mbody\u001b[49m\u001b[38;5;241;43m=\u001b[39;49m\u001b[43mbody\u001b[49m\u001b[43m,\u001b[49m\n\u001b[0;32m    709\u001b[0m \u001b[43m    \u001b[49m\u001b[43mheaders\u001b[49m\u001b[38;5;241;43m=\u001b[39;49m\u001b[43mheaders\u001b[49m\u001b[43m,\u001b[49m\n\u001b[0;32m    710\u001b[0m \u001b[43m    \u001b[49m\u001b[43mchunked\u001b[49m\u001b[38;5;241;43m=\u001b[39;49m\u001b[43mchunked\u001b[49m\u001b[43m,\u001b[49m\n\u001b[0;32m    711\u001b[0m \u001b[43m\u001b[49m\u001b[43m)\u001b[49m\n\u001b[0;32m    713\u001b[0m \u001b[38;5;66;03m# If we're going to release the connection in ``finally:``, then\u001b[39;00m\n\u001b[0;32m    714\u001b[0m \u001b[38;5;66;03m# the response doesn't need to know about the connection. Otherwise\u001b[39;00m\n\u001b[0;32m    715\u001b[0m \u001b[38;5;66;03m# it will also try to release it and we'll have a double-release\u001b[39;00m\n\u001b[0;32m    716\u001b[0m \u001b[38;5;66;03m# mess.\u001b[39;00m\n",
      "File \u001b[1;32m~\\miniconda3\\envs\\practice\\lib\\site-packages\\urllib3\\connectionpool.py:398\u001b[0m, in \u001b[0;36mHTTPConnectionPool._make_request\u001b[1;34m(self, conn, method, url, timeout, chunked, **httplib_request_kw)\u001b[0m\n\u001b[0;32m    397\u001b[0m     \u001b[38;5;28;01melse\u001b[39;00m:\n\u001b[1;32m--> 398\u001b[0m         \u001b[43mconn\u001b[49m\u001b[38;5;241;43m.\u001b[39;49m\u001b[43mrequest\u001b[49m\u001b[43m(\u001b[49m\u001b[43mmethod\u001b[49m\u001b[43m,\u001b[49m\u001b[43m \u001b[49m\u001b[43murl\u001b[49m\u001b[43m,\u001b[49m\u001b[43m \u001b[49m\u001b[38;5;241;43m*\u001b[39;49m\u001b[38;5;241;43m*\u001b[39;49m\u001b[43mhttplib_request_kw\u001b[49m\u001b[43m)\u001b[49m\n\u001b[0;32m    400\u001b[0m \u001b[38;5;66;03m# We are swallowing BrokenPipeError (errno.EPIPE) since the server is\u001b[39;00m\n\u001b[0;32m    401\u001b[0m \u001b[38;5;66;03m# legitimately able to close the connection after sending a valid response.\u001b[39;00m\n\u001b[0;32m    402\u001b[0m \u001b[38;5;66;03m# With this behaviour, the received response is still readable.\u001b[39;00m\n",
      "File \u001b[1;32m~\\miniconda3\\envs\\practice\\lib\\site-packages\\urllib3\\connection.py:244\u001b[0m, in \u001b[0;36mHTTPConnection.request\u001b[1;34m(self, method, url, body, headers)\u001b[0m\n\u001b[0;32m    243\u001b[0m     headers[\u001b[38;5;124m\"\u001b[39m\u001b[38;5;124mUser-Agent\u001b[39m\u001b[38;5;124m\"\u001b[39m] \u001b[38;5;241m=\u001b[39m _get_default_user_agent()\n\u001b[1;32m--> 244\u001b[0m \u001b[38;5;28;43msuper\u001b[39;49m\u001b[43m(\u001b[49m\u001b[43mHTTPConnection\u001b[49m\u001b[43m,\u001b[49m\u001b[43m \u001b[49m\u001b[38;5;28;43mself\u001b[39;49m\u001b[43m)\u001b[49m\u001b[38;5;241;43m.\u001b[39;49m\u001b[43mrequest\u001b[49m\u001b[43m(\u001b[49m\u001b[43mmethod\u001b[49m\u001b[43m,\u001b[49m\u001b[43m \u001b[49m\u001b[43murl\u001b[49m\u001b[43m,\u001b[49m\u001b[43m \u001b[49m\u001b[43mbody\u001b[49m\u001b[38;5;241;43m=\u001b[39;49m\u001b[43mbody\u001b[49m\u001b[43m,\u001b[49m\u001b[43m \u001b[49m\u001b[43mheaders\u001b[49m\u001b[38;5;241;43m=\u001b[39;49m\u001b[43mheaders\u001b[49m\u001b[43m)\u001b[49m\n",
      "File \u001b[1;32m~\\miniconda3\\envs\\practice\\lib\\http\\client.py:1256\u001b[0m, in \u001b[0;36mHTTPConnection.request\u001b[1;34m(self, method, url, body, headers, encode_chunked)\u001b[0m\n\u001b[0;32m   1255\u001b[0m \u001b[38;5;124;03m\"\"\"Send a complete request to the server.\"\"\"\u001b[39;00m\n\u001b[1;32m-> 1256\u001b[0m \u001b[38;5;28;43mself\u001b[39;49m\u001b[38;5;241;43m.\u001b[39;49m\u001b[43m_send_request\u001b[49m\u001b[43m(\u001b[49m\u001b[43mmethod\u001b[49m\u001b[43m,\u001b[49m\u001b[43m \u001b[49m\u001b[43murl\u001b[49m\u001b[43m,\u001b[49m\u001b[43m \u001b[49m\u001b[43mbody\u001b[49m\u001b[43m,\u001b[49m\u001b[43m \u001b[49m\u001b[43mheaders\u001b[49m\u001b[43m,\u001b[49m\u001b[43m \u001b[49m\u001b[43mencode_chunked\u001b[49m\u001b[43m)\u001b[49m\n",
      "File \u001b[1;32m~\\miniconda3\\envs\\practice\\lib\\http\\client.py:1302\u001b[0m, in \u001b[0;36mHTTPConnection._send_request\u001b[1;34m(self, method, url, body, headers, encode_chunked)\u001b[0m\n\u001b[0;32m   1301\u001b[0m     body \u001b[38;5;241m=\u001b[39m _encode(body, \u001b[38;5;124m'\u001b[39m\u001b[38;5;124mbody\u001b[39m\u001b[38;5;124m'\u001b[39m)\n\u001b[1;32m-> 1302\u001b[0m \u001b[38;5;28;43mself\u001b[39;49m\u001b[38;5;241;43m.\u001b[39;49m\u001b[43mendheaders\u001b[49m\u001b[43m(\u001b[49m\u001b[43mbody\u001b[49m\u001b[43m,\u001b[49m\u001b[43m \u001b[49m\u001b[43mencode_chunked\u001b[49m\u001b[38;5;241;43m=\u001b[39;49m\u001b[43mencode_chunked\u001b[49m\u001b[43m)\u001b[49m\n",
      "File \u001b[1;32m~\\miniconda3\\envs\\practice\\lib\\http\\client.py:1251\u001b[0m, in \u001b[0;36mHTTPConnection.endheaders\u001b[1;34m(self, message_body, encode_chunked)\u001b[0m\n\u001b[0;32m   1250\u001b[0m     \u001b[38;5;28;01mraise\u001b[39;00m CannotSendHeader()\n\u001b[1;32m-> 1251\u001b[0m \u001b[38;5;28;43mself\u001b[39;49m\u001b[38;5;241;43m.\u001b[39;49m\u001b[43m_send_output\u001b[49m\u001b[43m(\u001b[49m\u001b[43mmessage_body\u001b[49m\u001b[43m,\u001b[49m\u001b[43m \u001b[49m\u001b[43mencode_chunked\u001b[49m\u001b[38;5;241;43m=\u001b[39;49m\u001b[43mencode_chunked\u001b[49m\u001b[43m)\u001b[49m\n",
      "File \u001b[1;32m~\\miniconda3\\envs\\practice\\lib\\http\\client.py:1011\u001b[0m, in \u001b[0;36mHTTPConnection._send_output\u001b[1;34m(self, message_body, encode_chunked)\u001b[0m\n\u001b[0;32m   1010\u001b[0m \u001b[38;5;28;01mdel\u001b[39;00m \u001b[38;5;28mself\u001b[39m\u001b[38;5;241m.\u001b[39m_buffer[:]\n\u001b[1;32m-> 1011\u001b[0m \u001b[38;5;28;43mself\u001b[39;49m\u001b[38;5;241;43m.\u001b[39;49m\u001b[43msend\u001b[49m\u001b[43m(\u001b[49m\u001b[43mmsg\u001b[49m\u001b[43m)\u001b[49m\n\u001b[0;32m   1013\u001b[0m \u001b[38;5;28;01mif\u001b[39;00m message_body \u001b[38;5;129;01mis\u001b[39;00m \u001b[38;5;129;01mnot\u001b[39;00m \u001b[38;5;28;01mNone\u001b[39;00m:\n\u001b[0;32m   1014\u001b[0m \n\u001b[0;32m   1015\u001b[0m     \u001b[38;5;66;03m# create a consistent interface to message_body\u001b[39;00m\n",
      "File \u001b[1;32m~\\miniconda3\\envs\\practice\\lib\\http\\client.py:951\u001b[0m, in \u001b[0;36mHTTPConnection.send\u001b[1;34m(self, data)\u001b[0m\n\u001b[0;32m    950\u001b[0m \u001b[38;5;28;01mif\u001b[39;00m \u001b[38;5;28mself\u001b[39m\u001b[38;5;241m.\u001b[39mauto_open:\n\u001b[1;32m--> 951\u001b[0m     \u001b[38;5;28;43mself\u001b[39;49m\u001b[38;5;241;43m.\u001b[39;49m\u001b[43mconnect\u001b[49m\u001b[43m(\u001b[49m\u001b[43m)\u001b[49m\n\u001b[0;32m    952\u001b[0m \u001b[38;5;28;01melse\u001b[39;00m:\n",
      "File \u001b[1;32m~\\miniconda3\\envs\\practice\\lib\\site-packages\\urllib3\\connection.py:205\u001b[0m, in \u001b[0;36mHTTPConnection.connect\u001b[1;34m(self)\u001b[0m\n\u001b[0;32m    204\u001b[0m \u001b[38;5;28;01mdef\u001b[39;00m \u001b[38;5;21mconnect\u001b[39m(\u001b[38;5;28mself\u001b[39m):\n\u001b[1;32m--> 205\u001b[0m     conn \u001b[38;5;241m=\u001b[39m \u001b[38;5;28;43mself\u001b[39;49m\u001b[38;5;241;43m.\u001b[39;49m\u001b[43m_new_conn\u001b[49m\u001b[43m(\u001b[49m\u001b[43m)\u001b[49m\n\u001b[0;32m    206\u001b[0m     \u001b[38;5;28mself\u001b[39m\u001b[38;5;241m.\u001b[39m_prepare_conn(conn)\n",
      "File \u001b[1;32m~\\miniconda3\\envs\\practice\\lib\\site-packages\\urllib3\\connection.py:186\u001b[0m, in \u001b[0;36mHTTPConnection._new_conn\u001b[1;34m(self)\u001b[0m\n\u001b[0;32m    185\u001b[0m \u001b[38;5;28;01mexcept\u001b[39;00m SocketError \u001b[38;5;28;01mas\u001b[39;00m e:\n\u001b[1;32m--> 186\u001b[0m     \u001b[38;5;28;01mraise\u001b[39;00m NewConnectionError(\n\u001b[0;32m    187\u001b[0m         \u001b[38;5;28mself\u001b[39m, \u001b[38;5;124m\"\u001b[39m\u001b[38;5;124mFailed to establish a new connection: \u001b[39m\u001b[38;5;132;01m%s\u001b[39;00m\u001b[38;5;124m\"\u001b[39m \u001b[38;5;241m%\u001b[39m e\n\u001b[0;32m    188\u001b[0m     )\n\u001b[0;32m    190\u001b[0m \u001b[38;5;28;01mreturn\u001b[39;00m conn\n",
      "\u001b[1;31mNewConnectionError\u001b[0m: <urllib3.connection.HTTPConnection object at 0x0000016B361206A0>: Failed to establish a new connection: [WinError 10060] 연결된 구성원으로부터 응답이 없어 연결하지 못했거나, 호스트로부터 응답이 없어 연결이 끊어졌습니다",
      "\nDuring handling of the above exception, another exception occurred:\n",
      "\u001b[1;31mMaxRetryError\u001b[0m                             Traceback (most recent call last)",
      "File \u001b[1;32m~\\miniconda3\\envs\\practice\\lib\\site-packages\\requests\\adapters.py:489\u001b[0m, in \u001b[0;36mHTTPAdapter.send\u001b[1;34m(self, request, stream, timeout, verify, cert, proxies)\u001b[0m\n\u001b[0;32m    488\u001b[0m \u001b[38;5;28;01mif\u001b[39;00m \u001b[38;5;129;01mnot\u001b[39;00m chunked:\n\u001b[1;32m--> 489\u001b[0m     resp \u001b[38;5;241m=\u001b[39m \u001b[43mconn\u001b[49m\u001b[38;5;241;43m.\u001b[39;49m\u001b[43murlopen\u001b[49m\u001b[43m(\u001b[49m\n\u001b[0;32m    490\u001b[0m \u001b[43m        \u001b[49m\u001b[43mmethod\u001b[49m\u001b[38;5;241;43m=\u001b[39;49m\u001b[43mrequest\u001b[49m\u001b[38;5;241;43m.\u001b[39;49m\u001b[43mmethod\u001b[49m\u001b[43m,\u001b[49m\n\u001b[0;32m    491\u001b[0m \u001b[43m        \u001b[49m\u001b[43murl\u001b[49m\u001b[38;5;241;43m=\u001b[39;49m\u001b[43murl\u001b[49m\u001b[43m,\u001b[49m\n\u001b[0;32m    492\u001b[0m \u001b[43m        \u001b[49m\u001b[43mbody\u001b[49m\u001b[38;5;241;43m=\u001b[39;49m\u001b[43mrequest\u001b[49m\u001b[38;5;241;43m.\u001b[39;49m\u001b[43mbody\u001b[49m\u001b[43m,\u001b[49m\n\u001b[0;32m    493\u001b[0m \u001b[43m        \u001b[49m\u001b[43mheaders\u001b[49m\u001b[38;5;241;43m=\u001b[39;49m\u001b[43mrequest\u001b[49m\u001b[38;5;241;43m.\u001b[39;49m\u001b[43mheaders\u001b[49m\u001b[43m,\u001b[49m\n\u001b[0;32m    494\u001b[0m \u001b[43m        \u001b[49m\u001b[43mredirect\u001b[49m\u001b[38;5;241;43m=\u001b[39;49m\u001b[38;5;28;43;01mFalse\u001b[39;49;00m\u001b[43m,\u001b[49m\n\u001b[0;32m    495\u001b[0m \u001b[43m        \u001b[49m\u001b[43massert_same_host\u001b[49m\u001b[38;5;241;43m=\u001b[39;49m\u001b[38;5;28;43;01mFalse\u001b[39;49;00m\u001b[43m,\u001b[49m\n\u001b[0;32m    496\u001b[0m \u001b[43m        \u001b[49m\u001b[43mpreload_content\u001b[49m\u001b[38;5;241;43m=\u001b[39;49m\u001b[38;5;28;43;01mFalse\u001b[39;49;00m\u001b[43m,\u001b[49m\n\u001b[0;32m    497\u001b[0m \u001b[43m        \u001b[49m\u001b[43mdecode_content\u001b[49m\u001b[38;5;241;43m=\u001b[39;49m\u001b[38;5;28;43;01mFalse\u001b[39;49;00m\u001b[43m,\u001b[49m\n\u001b[0;32m    498\u001b[0m \u001b[43m        \u001b[49m\u001b[43mretries\u001b[49m\u001b[38;5;241;43m=\u001b[39;49m\u001b[38;5;28;43mself\u001b[39;49m\u001b[38;5;241;43m.\u001b[39;49m\u001b[43mmax_retries\u001b[49m\u001b[43m,\u001b[49m\n\u001b[0;32m    499\u001b[0m \u001b[43m        \u001b[49m\u001b[43mtimeout\u001b[49m\u001b[38;5;241;43m=\u001b[39;49m\u001b[43mtimeout\u001b[49m\u001b[43m,\u001b[49m\n\u001b[0;32m    500\u001b[0m \u001b[43m    \u001b[49m\u001b[43m)\u001b[49m\n\u001b[0;32m    502\u001b[0m \u001b[38;5;66;03m# Send the request.\u001b[39;00m\n\u001b[0;32m    503\u001b[0m \u001b[38;5;28;01melse\u001b[39;00m:\n",
      "File \u001b[1;32m~\\miniconda3\\envs\\practice\\lib\\site-packages\\urllib3\\connectionpool.py:787\u001b[0m, in \u001b[0;36mHTTPConnectionPool.urlopen\u001b[1;34m(self, method, url, body, headers, retries, redirect, assert_same_host, timeout, pool_timeout, release_conn, chunked, body_pos, **response_kw)\u001b[0m\n\u001b[0;32m    785\u001b[0m     e \u001b[38;5;241m=\u001b[39m ProtocolError(\u001b[38;5;124m\"\u001b[39m\u001b[38;5;124mConnection aborted.\u001b[39m\u001b[38;5;124m\"\u001b[39m, e)\n\u001b[1;32m--> 787\u001b[0m retries \u001b[38;5;241m=\u001b[39m \u001b[43mretries\u001b[49m\u001b[38;5;241;43m.\u001b[39;49m\u001b[43mincrement\u001b[49m\u001b[43m(\u001b[49m\n\u001b[0;32m    788\u001b[0m \u001b[43m    \u001b[49m\u001b[43mmethod\u001b[49m\u001b[43m,\u001b[49m\u001b[43m \u001b[49m\u001b[43murl\u001b[49m\u001b[43m,\u001b[49m\u001b[43m \u001b[49m\u001b[43merror\u001b[49m\u001b[38;5;241;43m=\u001b[39;49m\u001b[43me\u001b[49m\u001b[43m,\u001b[49m\u001b[43m \u001b[49m\u001b[43m_pool\u001b[49m\u001b[38;5;241;43m=\u001b[39;49m\u001b[38;5;28;43mself\u001b[39;49m\u001b[43m,\u001b[49m\u001b[43m \u001b[49m\u001b[43m_stacktrace\u001b[49m\u001b[38;5;241;43m=\u001b[39;49m\u001b[43msys\u001b[49m\u001b[38;5;241;43m.\u001b[39;49m\u001b[43mexc_info\u001b[49m\u001b[43m(\u001b[49m\u001b[43m)\u001b[49m\u001b[43m[\u001b[49m\u001b[38;5;241;43m2\u001b[39;49m\u001b[43m]\u001b[49m\n\u001b[0;32m    789\u001b[0m \u001b[43m\u001b[49m\u001b[43m)\u001b[49m\n\u001b[0;32m    790\u001b[0m retries\u001b[38;5;241m.\u001b[39msleep()\n",
      "File \u001b[1;32m~\\miniconda3\\envs\\practice\\lib\\site-packages\\urllib3\\util\\retry.py:592\u001b[0m, in \u001b[0;36mRetry.increment\u001b[1;34m(self, method, url, response, error, _pool, _stacktrace)\u001b[0m\n\u001b[0;32m    591\u001b[0m \u001b[38;5;28;01mif\u001b[39;00m new_retry\u001b[38;5;241m.\u001b[39mis_exhausted():\n\u001b[1;32m--> 592\u001b[0m     \u001b[38;5;28;01mraise\u001b[39;00m MaxRetryError(_pool, url, error \u001b[38;5;129;01mor\u001b[39;00m ResponseError(cause))\n\u001b[0;32m    594\u001b[0m log\u001b[38;5;241m.\u001b[39mdebug(\u001b[38;5;124m\"\u001b[39m\u001b[38;5;124mIncremented Retry for (url=\u001b[39m\u001b[38;5;124m'\u001b[39m\u001b[38;5;132;01m%s\u001b[39;00m\u001b[38;5;124m'\u001b[39m\u001b[38;5;124m): \u001b[39m\u001b[38;5;132;01m%r\u001b[39;00m\u001b[38;5;124m\"\u001b[39m, url, new_retry)\n",
      "\u001b[1;31mMaxRetryError\u001b[0m: HTTPConnectionPool(host='apis.data.go.kr', port=80): Max retries exceeded with url: /1360000/WthrWrnInfoService?serviceKey=FNxwQLWk7jGDdCT1WrMW%2FIMC5OPj8UfZBNe3B8RLWewBrVMNw7cmNpo4wVmrIInf306MTSPihoKniPnjby7MGw%3D%3D&pageNo=1&numOfRows=10&dataType=XML&stnId=184&fromTmFc=20170601&toTmFc=20170607 (Caused by NewConnectionError('<urllib3.connection.HTTPConnection object at 0x0000016B361206A0>: Failed to establish a new connection: [WinError 10060] 연결된 구성원으로부터 응답이 없어 연결하지 못했거나, 호스트로부터 응답이 없어 연결이 끊어졌습니다'))",
      "\nDuring handling of the above exception, another exception occurred:\n",
      "\u001b[1;31mConnectionError\u001b[0m                           Traceback (most recent call last)",
      "Cell \u001b[1;32mIn[6], line 6\u001b[0m\n\u001b[0;32m      3\u001b[0m url \u001b[38;5;241m=\u001b[39m \u001b[38;5;124m'\u001b[39m\u001b[38;5;124mhttp://apis.data.go.kr/1360000/WthrWrnInfoService\u001b[39m\u001b[38;5;124m'\u001b[39m\n\u001b[0;32m      4\u001b[0m params \u001b[38;5;241m=\u001b[39m{\u001b[38;5;124m'\u001b[39m\u001b[38;5;124mserviceKey\u001b[39m\u001b[38;5;124m'\u001b[39m : \u001b[38;5;124m'\u001b[39m\u001b[38;5;124mFNxwQLWk7jGDdCT1WrMW/IMC5OPj8UfZBNe3B8RLWewBrVMNw7cmNpo4wVmrIInf306MTSPihoKniPnjby7MGw==\u001b[39m\u001b[38;5;124m'\u001b[39m, \u001b[38;5;124m'\u001b[39m\u001b[38;5;124mpageNo\u001b[39m\u001b[38;5;124m'\u001b[39m : \u001b[38;5;124m'\u001b[39m\u001b[38;5;124m1\u001b[39m\u001b[38;5;124m'\u001b[39m, \u001b[38;5;124m'\u001b[39m\u001b[38;5;124mnumOfRows\u001b[39m\u001b[38;5;124m'\u001b[39m : \u001b[38;5;124m'\u001b[39m\u001b[38;5;124m10\u001b[39m\u001b[38;5;124m'\u001b[39m, \u001b[38;5;124m'\u001b[39m\u001b[38;5;124mdataType\u001b[39m\u001b[38;5;124m'\u001b[39m : \u001b[38;5;124m'\u001b[39m\u001b[38;5;124mXML\u001b[39m\u001b[38;5;124m'\u001b[39m, \u001b[38;5;124m'\u001b[39m\u001b[38;5;124mstnId\u001b[39m\u001b[38;5;124m'\u001b[39m : \u001b[38;5;124m'\u001b[39m\u001b[38;5;124m184\u001b[39m\u001b[38;5;124m'\u001b[39m, \u001b[38;5;124m'\u001b[39m\u001b[38;5;124mfromTmFc\u001b[39m\u001b[38;5;124m'\u001b[39m : \u001b[38;5;124m'\u001b[39m\u001b[38;5;124m20170601\u001b[39m\u001b[38;5;124m'\u001b[39m, \u001b[38;5;124m'\u001b[39m\u001b[38;5;124mtoTmFc\u001b[39m\u001b[38;5;124m'\u001b[39m : \u001b[38;5;124m'\u001b[39m\u001b[38;5;124m20170607\u001b[39m\u001b[38;5;124m'\u001b[39m }\n\u001b[1;32m----> 6\u001b[0m response \u001b[38;5;241m=\u001b[39m \u001b[43mrequests\u001b[49m\u001b[38;5;241;43m.\u001b[39;49m\u001b[43mget\u001b[49m\u001b[43m(\u001b[49m\u001b[43murl\u001b[49m\u001b[43m,\u001b[49m\u001b[43m \u001b[49m\u001b[43mparams\u001b[49m\u001b[38;5;241;43m=\u001b[39;49m\u001b[43mparams\u001b[49m\u001b[43m)\u001b[49m\n\u001b[0;32m      7\u001b[0m \u001b[38;5;28mprint\u001b[39m(response\u001b[38;5;241m.\u001b[39mcontent)\n",
      "File \u001b[1;32m~\\miniconda3\\envs\\practice\\lib\\site-packages\\requests\\api.py:73\u001b[0m, in \u001b[0;36mget\u001b[1;34m(url, params, **kwargs)\u001b[0m\n\u001b[0;32m     62\u001b[0m \u001b[38;5;28;01mdef\u001b[39;00m \u001b[38;5;21mget\u001b[39m(url, params\u001b[38;5;241m=\u001b[39m\u001b[38;5;28;01mNone\u001b[39;00m, \u001b[38;5;241m*\u001b[39m\u001b[38;5;241m*\u001b[39mkwargs):\n\u001b[0;32m     63\u001b[0m     \u001b[38;5;124mr\u001b[39m\u001b[38;5;124;03m\"\"\"Sends a GET request.\u001b[39;00m\n\u001b[0;32m     64\u001b[0m \n\u001b[0;32m     65\u001b[0m \u001b[38;5;124;03m    :param url: URL for the new :class:`Request` object.\u001b[39;00m\n\u001b[1;32m   (...)\u001b[0m\n\u001b[0;32m     70\u001b[0m \u001b[38;5;124;03m    :rtype: requests.Response\u001b[39;00m\n\u001b[0;32m     71\u001b[0m \u001b[38;5;124;03m    \"\"\"\u001b[39;00m\n\u001b[1;32m---> 73\u001b[0m     \u001b[38;5;28;01mreturn\u001b[39;00m \u001b[43mrequest\u001b[49m\u001b[43m(\u001b[49m\u001b[38;5;124;43m\"\u001b[39;49m\u001b[38;5;124;43mget\u001b[39;49m\u001b[38;5;124;43m\"\u001b[39;49m\u001b[43m,\u001b[49m\u001b[43m \u001b[49m\u001b[43murl\u001b[49m\u001b[43m,\u001b[49m\u001b[43m \u001b[49m\u001b[43mparams\u001b[49m\u001b[38;5;241;43m=\u001b[39;49m\u001b[43mparams\u001b[49m\u001b[43m,\u001b[49m\u001b[43m \u001b[49m\u001b[38;5;241;43m*\u001b[39;49m\u001b[38;5;241;43m*\u001b[39;49m\u001b[43mkwargs\u001b[49m\u001b[43m)\u001b[49m\n",
      "File \u001b[1;32m~\\miniconda3\\envs\\practice\\lib\\site-packages\\requests\\api.py:59\u001b[0m, in \u001b[0;36mrequest\u001b[1;34m(method, url, **kwargs)\u001b[0m\n\u001b[0;32m     55\u001b[0m \u001b[38;5;66;03m# By using the 'with' statement we are sure the session is closed, thus we\u001b[39;00m\n\u001b[0;32m     56\u001b[0m \u001b[38;5;66;03m# avoid leaving sockets open which can trigger a ResourceWarning in some\u001b[39;00m\n\u001b[0;32m     57\u001b[0m \u001b[38;5;66;03m# cases, and look like a memory leak in others.\u001b[39;00m\n\u001b[0;32m     58\u001b[0m \u001b[38;5;28;01mwith\u001b[39;00m sessions\u001b[38;5;241m.\u001b[39mSession() \u001b[38;5;28;01mas\u001b[39;00m session:\n\u001b[1;32m---> 59\u001b[0m     \u001b[38;5;28;01mreturn\u001b[39;00m \u001b[43msession\u001b[49m\u001b[38;5;241;43m.\u001b[39;49m\u001b[43mrequest\u001b[49m\u001b[43m(\u001b[49m\u001b[43mmethod\u001b[49m\u001b[38;5;241;43m=\u001b[39;49m\u001b[43mmethod\u001b[49m\u001b[43m,\u001b[49m\u001b[43m \u001b[49m\u001b[43murl\u001b[49m\u001b[38;5;241;43m=\u001b[39;49m\u001b[43murl\u001b[49m\u001b[43m,\u001b[49m\u001b[43m \u001b[49m\u001b[38;5;241;43m*\u001b[39;49m\u001b[38;5;241;43m*\u001b[39;49m\u001b[43mkwargs\u001b[49m\u001b[43m)\u001b[49m\n",
      "File \u001b[1;32m~\\miniconda3\\envs\\practice\\lib\\site-packages\\requests\\sessions.py:587\u001b[0m, in \u001b[0;36mSession.request\u001b[1;34m(self, method, url, params, data, headers, cookies, files, auth, timeout, allow_redirects, proxies, hooks, stream, verify, cert, json)\u001b[0m\n\u001b[0;32m    582\u001b[0m send_kwargs \u001b[38;5;241m=\u001b[39m {\n\u001b[0;32m    583\u001b[0m     \u001b[38;5;124m\"\u001b[39m\u001b[38;5;124mtimeout\u001b[39m\u001b[38;5;124m\"\u001b[39m: timeout,\n\u001b[0;32m    584\u001b[0m     \u001b[38;5;124m\"\u001b[39m\u001b[38;5;124mallow_redirects\u001b[39m\u001b[38;5;124m\"\u001b[39m: allow_redirects,\n\u001b[0;32m    585\u001b[0m }\n\u001b[0;32m    586\u001b[0m send_kwargs\u001b[38;5;241m.\u001b[39mupdate(settings)\n\u001b[1;32m--> 587\u001b[0m resp \u001b[38;5;241m=\u001b[39m \u001b[38;5;28;43mself\u001b[39;49m\u001b[38;5;241;43m.\u001b[39;49m\u001b[43msend\u001b[49m\u001b[43m(\u001b[49m\u001b[43mprep\u001b[49m\u001b[43m,\u001b[49m\u001b[43m \u001b[49m\u001b[38;5;241;43m*\u001b[39;49m\u001b[38;5;241;43m*\u001b[39;49m\u001b[43msend_kwargs\u001b[49m\u001b[43m)\u001b[49m\n\u001b[0;32m    589\u001b[0m \u001b[38;5;28;01mreturn\u001b[39;00m resp\n",
      "File \u001b[1;32m~\\miniconda3\\envs\\practice\\lib\\site-packages\\requests\\sessions.py:701\u001b[0m, in \u001b[0;36mSession.send\u001b[1;34m(self, request, **kwargs)\u001b[0m\n\u001b[0;32m    698\u001b[0m start \u001b[38;5;241m=\u001b[39m preferred_clock()\n\u001b[0;32m    700\u001b[0m \u001b[38;5;66;03m# Send the request\u001b[39;00m\n\u001b[1;32m--> 701\u001b[0m r \u001b[38;5;241m=\u001b[39m \u001b[43madapter\u001b[49m\u001b[38;5;241;43m.\u001b[39;49m\u001b[43msend\u001b[49m\u001b[43m(\u001b[49m\u001b[43mrequest\u001b[49m\u001b[43m,\u001b[49m\u001b[43m \u001b[49m\u001b[38;5;241;43m*\u001b[39;49m\u001b[38;5;241;43m*\u001b[39;49m\u001b[43mkwargs\u001b[49m\u001b[43m)\u001b[49m\n\u001b[0;32m    703\u001b[0m \u001b[38;5;66;03m# Total elapsed time of the request (approximately)\u001b[39;00m\n\u001b[0;32m    704\u001b[0m elapsed \u001b[38;5;241m=\u001b[39m preferred_clock() \u001b[38;5;241m-\u001b[39m start\n",
      "File \u001b[1;32m~\\miniconda3\\envs\\practice\\lib\\site-packages\\requests\\adapters.py:565\u001b[0m, in \u001b[0;36mHTTPAdapter.send\u001b[1;34m(self, request, stream, timeout, verify, cert, proxies)\u001b[0m\n\u001b[0;32m    561\u001b[0m     \u001b[38;5;28;01mif\u001b[39;00m \u001b[38;5;28misinstance\u001b[39m(e\u001b[38;5;241m.\u001b[39mreason, _SSLError):\n\u001b[0;32m    562\u001b[0m         \u001b[38;5;66;03m# This branch is for urllib3 v1.22 and later.\u001b[39;00m\n\u001b[0;32m    563\u001b[0m         \u001b[38;5;28;01mraise\u001b[39;00m SSLError(e, request\u001b[38;5;241m=\u001b[39mrequest)\n\u001b[1;32m--> 565\u001b[0m     \u001b[38;5;28;01mraise\u001b[39;00m \u001b[38;5;167;01mConnectionError\u001b[39;00m(e, request\u001b[38;5;241m=\u001b[39mrequest)\n\u001b[0;32m    567\u001b[0m \u001b[38;5;28;01mexcept\u001b[39;00m ClosedPoolError \u001b[38;5;28;01mas\u001b[39;00m e:\n\u001b[0;32m    568\u001b[0m     \u001b[38;5;28;01mraise\u001b[39;00m \u001b[38;5;167;01mConnectionError\u001b[39;00m(e, request\u001b[38;5;241m=\u001b[39mrequest)\n",
      "\u001b[1;31mConnectionError\u001b[0m: HTTPConnectionPool(host='apis.data.go.kr', port=80): Max retries exceeded with url: /1360000/WthrWrnInfoService?serviceKey=FNxwQLWk7jGDdCT1WrMW%2FIMC5OPj8UfZBNe3B8RLWewBrVMNw7cmNpo4wVmrIInf306MTSPihoKniPnjby7MGw%3D%3D&pageNo=1&numOfRows=10&dataType=XML&stnId=184&fromTmFc=20170601&toTmFc=20170607 (Caused by NewConnectionError('<urllib3.connection.HTTPConnection object at 0x0000016B361206A0>: Failed to establish a new connection: [WinError 10060] 연결된 구성원으로부터 응답이 없어 연결하지 못했거나, 호스트로부터 응답이 없어 연결이 끊어졌습니다'))"
     ]
    }
   ],
   "source": [
    "import requests\n",
    "\n",
    "url = 'http://apis.data.go.kr/1360000/WthrWrnInfoService/getWthrWrnList'\n",
    "params ={'serviceKey' : 'FNxwQLWk7jGDdCT1WrMW/IMC5OPj8UfZBNe3B8RLWewBrVMNw7cmNpo4wVmrIInf306MTSPihoKniPnjby7MGw==', 'pageNo' : '1', 'numOfRows' : '10', 'dataType' : 'XML', 'stnId' : '184', 'fromTmFc' : '20170601', 'toTmFc' : '20170607' }\n",
    "\n",
    "response = requests.get(url, params=params)\n",
    "print(response.content)"
   ]
  },
  {
   "cell_type": "code",
   "execution_count": null,
   "id": "b950c23d",
   "metadata": {},
   "outputs": [],
   "source": []
  }
 ],
 "metadata": {
  "kernelspec": {
   "display_name": "Python 3 (ipykernel)",
   "language": "python",
   "name": "python3"
  },
  "language_info": {
   "codemirror_mode": {
    "name": "ipython",
    "version": 3
   },
   "file_extension": ".py",
   "mimetype": "text/x-python",
   "name": "python",
   "nbconvert_exporter": "python",
   "pygments_lexer": "ipython3",
   "version": "3.8.16"
  }
 },
 "nbformat": 4,
 "nbformat_minor": 5
}
